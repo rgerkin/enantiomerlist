{
 "cells": [
  {
   "cell_type": "markdown",
   "metadata": {},
   "source": [
    "## Preliminaries"
   ]
  },
  {
   "cell_type": "code",
   "execution_count": 1,
   "metadata": {},
   "outputs": [],
   "source": [
    "#!conda install -y -c rdkit -c mordred-descriptor mordred"
   ]
  },
  {
   "cell_type": "code",
   "execution_count": 2,
   "metadata": {},
   "outputs": [],
   "source": [
    "%load_ext autoreload\n",
    "%autoreload 2"
   ]
  },
  {
   "cell_type": "code",
   "execution_count": 3,
   "metadata": {},
   "outputs": [
    {
     "name": "stdout",
     "output_type": "stream",
     "text": [
      "/home/rgerkin/Dropbox (ASU)/science/enantiomerlist\n"
     ]
    }
   ],
   "source": [
    "import __init__ as a\n",
    "a.mpl.rcParams['font.size'] = 12"
   ]
  },
  {
   "cell_type": "markdown",
   "metadata": {},
   "source": [
    "### This is important"
   ]
  },
  {
   "cell_type": "code",
   "execution_count": null,
   "metadata": {},
   "outputs": [],
   "source": []
  },
  {
   "cell_type": "code",
   "execution_count": 4,
   "metadata": {},
   "outputs": [],
   "source": [
    "if a.HAS_OBABEL:\n",
    "    a.test_eden_pybel() # Should show two molecules below.  "
   ]
  },
  {
   "cell_type": "code",
   "execution_count": 9,
   "metadata": {},
   "outputs": [
    {
     "data": {
      "text/plain": [
       "'/home/rgerkin/Dropbox (ASU)/science/enantiomerlist/olfaction-prediction'"
      ]
     },
     "execution_count": 9,
     "metadata": {},
     "output_type": "execute_result"
    }
   ],
   "source": [
    "a.OP_HOME"
   ]
  },
  {
   "cell_type": "code",
   "execution_count": 5,
   "metadata": {},
   "outputs": [
    {
     "name": "stdout",
     "output_type": "stream",
     "text": [
      "Convering SMILES string to Mol format...\n",
      "Computing 3D coordinates...\n",
      "Computing Mordred features...\n"
     ]
    },
    {
     "name": "stderr",
     "output_type": "stream",
     "text": [
      "100%|██████████| 2/2 [00:00<00:00,  4.66it/s]\n"
     ]
    },
    {
     "name": "stdout",
     "output_type": "stream",
     "text": [
      "There are 2 molecules and 1824 features\n"
     ]
    },
    {
     "data": {
      "text/html": [
       "<div>\n",
       "<style scoped>\n",
       "    .dataframe tbody tr th:only-of-type {\n",
       "        vertical-align: middle;\n",
       "    }\n",
       "\n",
       "    .dataframe tbody tr th {\n",
       "        vertical-align: top;\n",
       "    }\n",
       "\n",
       "    .dataframe thead th {\n",
       "        text-align: right;\n",
       "    }\n",
       "</style>\n",
       "<table border=\"1\" class=\"dataframe\">\n",
       "  <thead>\n",
       "    <tr style=\"text-align: right;\">\n",
       "      <th></th>\n",
       "      <th>SpAbs_D</th>\n",
       "      <th>SpMax_D</th>\n",
       "      <th>SpDiam_D</th>\n",
       "      <th>SpAD_D</th>\n",
       "      <th>SpMAD_D</th>\n",
       "      <th>LogEE_D</th>\n",
       "      <th>SM1_D</th>\n",
       "      <th>VE1_D</th>\n",
       "      <th>VE2_D</th>\n",
       "      <th>VE3_D</th>\n",
       "      <th>...</th>\n",
       "      <th>VSA_EState4</th>\n",
       "      <th>VSA_EState5</th>\n",
       "      <th>VSA_EState6</th>\n",
       "      <th>VSA_EState7</th>\n",
       "      <th>VSA_EState8</th>\n",
       "      <th>VSA_EState9</th>\n",
       "      <th>WPath</th>\n",
       "      <th>WPol</th>\n",
       "      <th>TopoPSA(NO)</th>\n",
       "      <th>TopoPSA</th>\n",
       "    </tr>\n",
       "  </thead>\n",
       "  <tbody>\n",
       "    <tr>\n",
       "      <th>OC[C@@H](O1)[C@@H](O)[C@H](O)[C@@H]2[C@@H]1c3c(O)c(OC)c(O)cc3C(=O)O2</th>\n",
       "      <td>185.211</td>\n",
       "      <td>92.6056</td>\n",
       "      <td>129.86</td>\n",
       "      <td>185.211</td>\n",
       "      <td>8.05266</td>\n",
       "      <td>92.6056</td>\n",
       "      <td>6.36701e-14</td>\n",
       "      <td>4.72343</td>\n",
       "      <td>0.205366</td>\n",
       "      <td>2.38544</td>\n",
       "      <td>...</td>\n",
       "      <td>0</td>\n",
       "      <td>0</td>\n",
       "      <td>0</td>\n",
       "      <td>0</td>\n",
       "      <td>0</td>\n",
       "      <td>69.6667</td>\n",
       "      <td>1030</td>\n",
       "      <td>47</td>\n",
       "      <td>145.91</td>\n",
       "      <td>145.91</td>\n",
       "    </tr>\n",
       "    <tr>\n",
       "      <th>CC(=O)NCCC1=CNc2c1cc(OC)cc2</th>\n",
       "      <td>137.523</td>\n",
       "      <td>68.7616</td>\n",
       "      <td>102.998</td>\n",
       "      <td>137.523</td>\n",
       "      <td>8.0896</td>\n",
       "      <td>68.7616</td>\n",
       "      <td>1.88208e-13</td>\n",
       "      <td>4.05242</td>\n",
       "      <td>0.238378</td>\n",
       "      <td>1.92994</td>\n",
       "      <td>...</td>\n",
       "      <td>0</td>\n",
       "      <td>0</td>\n",
       "      <td>0</td>\n",
       "      <td>0</td>\n",
       "      <td>0</td>\n",
       "      <td>38.8333</td>\n",
       "      <td>561</td>\n",
       "      <td>22</td>\n",
       "      <td>54.12</td>\n",
       "      <td>54.12</td>\n",
       "    </tr>\n",
       "  </tbody>\n",
       "</table>\n",
       "<p>2 rows × 1824 columns</p>\n",
       "</div>"
      ],
      "text/plain": [
       "                                                    SpAbs_D  SpMax_D SpDiam_D  \\\n",
       "OC[C@@H](O1)[C@@H](O)[C@H](O)[C@@H]2[C@@H]1c3c(...  185.211  92.6056   129.86   \n",
       "CC(=O)NCCC1=CNc2c1cc(OC)cc2                         137.523  68.7616  102.998   \n",
       "\n",
       "                                                     SpAD_D  SpMAD_D  LogEE_D  \\\n",
       "OC[C@@H](O1)[C@@H](O)[C@H](O)[C@@H]2[C@@H]1c3c(...  185.211  8.05266  92.6056   \n",
       "CC(=O)NCCC1=CNc2c1cc(OC)cc2                         137.523   8.0896  68.7616   \n",
       "\n",
       "                                                          SM1_D    VE1_D  \\\n",
       "OC[C@@H](O1)[C@@H](O)[C@H](O)[C@@H]2[C@@H]1c3c(...  6.36701e-14  4.72343   \n",
       "CC(=O)NCCC1=CNc2c1cc(OC)cc2                         1.88208e-13  4.05242   \n",
       "\n",
       "                                                       VE2_D    VE3_D   ...    \\\n",
       "OC[C@@H](O1)[C@@H](O)[C@H](O)[C@@H]2[C@@H]1c3c(...  0.205366  2.38544   ...     \n",
       "CC(=O)NCCC1=CNc2c1cc(OC)cc2                         0.238378  1.92994   ...     \n",
       "\n",
       "                                                   VSA_EState4 VSA_EState5  \\\n",
       "OC[C@@H](O1)[C@@H](O)[C@H](O)[C@@H]2[C@@H]1c3c(...           0           0   \n",
       "CC(=O)NCCC1=CNc2c1cc(OC)cc2                                  0           0   \n",
       "\n",
       "                                                   VSA_EState6 VSA_EState7  \\\n",
       "OC[C@@H](O1)[C@@H](O)[C@H](O)[C@@H]2[C@@H]1c3c(...           0           0   \n",
       "CC(=O)NCCC1=CNc2c1cc(OC)cc2                                  0           0   \n",
       "\n",
       "                                                   VSA_EState8 VSA_EState9  \\\n",
       "OC[C@@H](O1)[C@@H](O)[C@H](O)[C@@H]2[C@@H]1c3c(...           0     69.6667   \n",
       "CC(=O)NCCC1=CNc2c1cc(OC)cc2                                  0     38.8333   \n",
       "\n",
       "                                                   WPath WPol TopoPSA(NO)  \\\n",
       "OC[C@@H](O1)[C@@H](O)[C@H](O)[C@@H]2[C@@H]1c3c(...  1030   47      145.91   \n",
       "CC(=O)NCCC1=CNc2c1cc(OC)cc2                          561   22       54.12   \n",
       "\n",
       "                                                   TopoPSA  \n",
       "OC[C@@H](O1)[C@@H](O)[C@H](O)[C@@H]2[C@@H]1c3c(...  145.91  \n",
       "CC(=O)NCCC1=CNc2c1cc(OC)cc2                          54.12  \n",
       "\n",
       "[2 rows x 1824 columns]"
      ]
     },
     "metadata": {},
     "output_type": "display_data"
    }
   ],
   "source": [
    "a.test_rdkit_mordred() # Should show features for two molecules below.  "
   ]
  },
  {
   "cell_type": "code",
   "execution_count": 6,
   "metadata": {},
   "outputs": [
    {
     "name": "stdout",
     "output_type": "stream",
     "text": [
      "Convering SMILES string to Mol format...\n",
      "Computing 3D coordinates...\n",
      "Computing Mordred features...\n"
     ]
    },
    {
     "name": "stderr",
     "output_type": "stream",
     "text": [
      "100%|██████████| 2/2 [00:00<00:00, 10.88it/s]\n"
     ]
    },
    {
     "name": "stdout",
     "output_type": "stream",
     "text": [
      "There are 2 molecules and 1824 features\n",
      "79.0 percent of Mordred features are identical between (+)-carvone and (-)-carvone.\n"
     ]
    }
   ],
   "source": [
    "plus_carvone = 'CC1=CC[C@@H](CC1=O)C(=C)C'\n",
    "minus_carvone = 'CC1=CC[C@H](CC1=O)C(=C)C'\n",
    "features = a.smiles_to_mordred([plus_carvone,minus_carvone])\n",
    "plus_features = features.values[0,:]\n",
    "minus_features = features.values[1,:]\n",
    "print(\"%.1f percent of Mordred features are identical between (+)-carvone and (-)-carvone.\" % \\\n",
    "      (100.0*(plus_features==minus_features).mean()))"
   ]
  },
  {
   "cell_type": "markdown",
   "metadata": {},
   "source": [
    "## Load data from the DREAM challenge"
   ]
  },
  {
   "cell_type": "code",
   "execution_count": 7,
   "metadata": {},
   "outputs": [
    {
     "name": "stdout",
     "output_type": "stream",
     "text": [
      "Determining CIDs and dilutions the long way one time.Results will be stored for faster retrieval in the future\n",
      "Loading training data\n",
      "Pickling training data\n",
      "Loading leaderboard data\n",
      "Pickling leaderboard data\n",
      "Loading testset data\n",
      "Pickling testset data\n",
      "Loading training-norep data\n",
      "Pickling training-norep data\n",
      "Loading replicated data\n",
      "Pickling replicated data\n"
     ]
    }
   ],
   "source": [
    "dream_CIDs = a.loading.get_CIDs(['training','leaderboard','testset']) # Load the DREAM CIDs\n",
    "dream_CID_dilutions = a.loading.get_CID_dilutions(['training','leaderboard','testset'])"
   ]
  },
  {
   "cell_type": "code",
   "execution_count": 11,
   "metadata": {},
   "outputs": [],
   "source": [
    "dream_smiles = a.get_dream_smiles(dream_CIDs) # Load the DREAM SMILES strings"
   ]
  },
  {
   "cell_type": "code",
   "execution_count": 12,
   "metadata": {},
   "outputs": [],
   "source": [
    "isomeric_CIDs = a.find_isomers(dream_CIDs,dream_smiles)"
   ]
  },
  {
   "cell_type": "code",
   "execution_count": 13,
   "metadata": {},
   "outputs": [],
   "source": [
    "if a.HAS_OBABEL:\n",
    "    a.show_isomers(isomeric_CIDs,dream_CIDs,dream_smiles) # Show the isomeric pairs from the DREAM challenge"
   ]
  },
  {
   "cell_type": "code",
   "execution_count": 14,
   "metadata": {},
   "outputs": [],
   "source": [
    "# Load DREAM perceptual data\n",
    "dream_perceptual_data = a.loading.load_perceptual_data(['training','leaderboard','testset'])\n",
    "Y_dream = a.dream.make_Y(dream_perceptual_data)\n",
    "# We must also have an imputed version that we can use as input to the algorithm since it will not work with NaNs.  \n",
    "Y_dream_imputed = a.dream.make_Y(dream_perceptual_data, imputer='median')"
   ]
  },
  {
   "cell_type": "code",
   "execution_count": 15,
   "metadata": {},
   "outputs": [
    {
     "data": {
      "image/png": "[encoded data removed]",
      "text/plain": [
       "<matplotlib.figure.Figure at 0x7fb535eec4a8>"
      ]
     },
     "metadata": {},
     "output_type": "display_data"
    }
   ],
   "source": [
    "isomeric_index = 0 # The first isomeric pair, which should be racemic vs L-something\n",
    "a.plot_isomer_ratings(dream_perceptual_data,isomeric_CIDs[isomeric_index],('racemic','L'))"
   ]
  },
  {
   "cell_type": "code",
   "execution_count": 16,
   "metadata": {},
   "outputs": [
    {
     "name": "stdout",
     "output_type": "stream",
     "text": [
      "Loading molecules from the Shadmany enantiomer collection...\n",
      "Loaded 32 molecules\n"
     ]
    }
   ],
   "source": [
    "shadmany_smiles = a.load_other_smiles(shadmany=True)\n",
    "shadmany_data = a.load_data('shadmany')"
   ]
  },
  {
   "cell_type": "code",
   "execution_count": 17,
   "metadata": {
    "scrolled": false
   },
   "outputs": [
    {
     "data": {
      "text/html": [
       "<div>\n",
       "<style scoped>\n",
       "    .dataframe tbody tr th:only-of-type {\n",
       "        vertical-align: middle;\n",
       "    }\n",
       "\n",
       "    .dataframe tbody tr th {\n",
       "        vertical-align: top;\n",
       "    }\n",
       "\n",
       "    .dataframe thead th {\n",
       "        text-align: right;\n",
       "    }\n",
       "</style>\n",
       "<table border=\"1\" class=\"dataframe\">\n",
       "  <thead>\n",
       "    <tr style=\"text-align: right;\">\n",
       "      <th></th>\n",
       "      <th>Molecule Name</th>\n",
       "      <th>Pubchem ID #</th>\n",
       "      <th>Detection Threshold</th>\n",
       "      <th>Detection Units</th>\n",
       "      <th>Normalized Detection Threshold</th>\n",
       "      <th>Molecule Odour</th>\n",
       "    </tr>\n",
       "  </thead>\n",
       "  <tbody>\n",
       "    <tr>\n",
       "      <th>C=C(C)[C@@H]1CC=C(C)C(=O)C1</th>\n",
       "      <td>(4S)-(+)-carvone</td>\n",
       "      <td>16724</td>\n",
       "      <td>1.30E+02</td>\n",
       "      <td>ppb</td>\n",
       "      <td>1.300000e+02</td>\n",
       "      <td>caraway, fresh herbal</td>\n",
       "    </tr>\n",
       "    <tr>\n",
       "      <th>C=C(C)[C@H]1CC=C(C)C(=O)C1</th>\n",
       "      <td>(4R)-(-)-carvone</td>\n",
       "      <td>439570</td>\n",
       "      <td>2.00E+00</td>\n",
       "      <td>ppb</td>\n",
       "      <td>2.000000e+00</td>\n",
       "      <td>sweet spearmint, fresh herbal</td>\n",
       "    </tr>\n",
       "    <tr>\n",
       "      <th>C=C(C)[C@@H]1CCC2=CC(=O)C[C@@H](C)[C@]2(C)C1</th>\n",
       "      <td>(4R,4aS,6R)-(+) nootkatone</td>\n",
       "      <td>1268142</td>\n",
       "      <td>1.50E+01</td>\n",
       "      <td>ppm</td>\n",
       "      <td>1.500000e+04</td>\n",
       "      <td>grapefruit odor</td>\n",
       "    </tr>\n",
       "    <tr>\n",
       "      <th>C=C(C)[C@H]1CCC2=CC(=O)C[C@H](C)[C@@]2(C)C1</th>\n",
       "      <td>(4S,4aR,6S)-(-) nootkatone</td>\n",
       "      <td>7567181</td>\n",
       "      <td>6.60E+04</td>\n",
       "      <td>ppm</td>\n",
       "      <td>6.600000e+07</td>\n",
       "      <td>woody and spicy</td>\n",
       "    </tr>\n",
       "    <tr>\n",
       "      <th>C=C1CCCC(C)(C)[C@@H]1/C=C/C(C)=O</th>\n",
       "      <td>(S)-(+)-gamma-ionone</td>\n",
       "      <td>11194862</td>\n",
       "      <td>7.00E-02</td>\n",
       "      <td>ppb water</td>\n",
       "      <td>7.000000e-02</td>\n",
       "      <td>Linear, very pleasant, floral, green, woody od...</td>\n",
       "    </tr>\n",
       "    <tr>\n",
       "      <th>C=C1CCCC(C)(C)[C@H]1/C=C/C(C)=O</th>\n",
       "      <td>(R)-(-)-gamma-ionone</td>\n",
       "      <td>11389922</td>\n",
       "      <td>1.10E+01</td>\n",
       "      <td>ppb water</td>\n",
       "      <td>1.100000e+01</td>\n",
       "      <td>Weak green, fruity, pineapple-like odor with m...</td>\n",
       "    </tr>\n",
       "    <tr>\n",
       "      <th>C=C[C@@H](O)CCCCC</th>\n",
       "      <td>(S)-(+)-1-octen-3-ol</td>\n",
       "      <td>2724898</td>\n",
       "      <td>1.00E+02</td>\n",
       "      <td>ppb in aqueous ethanol</td>\n",
       "      <td>1.000000e+02</td>\n",
       "      <td>moldy, grassy, artificial; also desribed as he...</td>\n",
       "    </tr>\n",
       "    <tr>\n",
       "      <th>C=C[C@H](O)CCCCC</th>\n",
       "      <td>(R)-(-)-1-octen-3-ol</td>\n",
       "      <td>6992244</td>\n",
       "      <td>1.00E+01</td>\n",
       "      <td>ppb in aqueous ethanol</td>\n",
       "      <td>1.000000e+01</td>\n",
       "      <td>fruity, genuine mushroom-like; also desribed a...</td>\n",
       "    </tr>\n",
       "    <tr>\n",
       "      <th>C=C[C@@]1(C)CC[C@H]([C@@H](C)C=O)O1</th>\n",
       "      <td>(2R,2\\'R,5\\'R)-Lilac aldehyde</td>\n",
       "      <td>71587756</td>\n",
       "      <td>2.20E+01</td>\n",
       "      <td>ng</td>\n",
       "      <td>2.200000e-02</td>\n",
       "      <td>flowery</td>\n",
       "    </tr>\n",
       "    <tr>\n",
       "      <th>C=C[C@]1(C)CC[C@@H]([C@H](C)C=O)O1</th>\n",
       "      <td>(2S,2\\'S,5\\'S)-Lilac aldehyde</td>\n",
       "      <td>441572</td>\n",
       "      <td>2.00E-01</td>\n",
       "      <td>ng</td>\n",
       "      <td>2.000000e-04</td>\n",
       "      <td>fresh, flowery</td>\n",
       "    </tr>\n",
       "    <tr>\n",
       "      <th>CC(=O)/C=C/[C@H]1C(C)=CC[C@@H](C)C1(C)C</th>\n",
       "      <td>(1S,5R)-(+)-cis-alpha-irone</td>\n",
       "      <td>5281521</td>\n",
       "      <td>1.00E+05</td>\n",
       "      <td>ppb</td>\n",
       "      <td>1.000000e+05</td>\n",
       "      <td>iris, sweet irone odour, woody ionone, floral,...</td>\n",
       "    </tr>\n",
       "    <tr>\n",
       "      <th>CC(=O)/C=C/[C@@H]1C(C)=CC[C@H](C)C1(C)C</th>\n",
       "      <td>(1R,5S)-(-)-cis-alpha-irone</td>\n",
       "      <td>11009095</td>\n",
       "      <td>1.00E+04</td>\n",
       "      <td>ppb</td>\n",
       "      <td>1.000000e+04</td>\n",
       "      <td>odourless (Galfry, et.al, by GC sniffing); In ...</td>\n",
       "    </tr>\n",
       "    <tr>\n",
       "      <th>CC(C)=C[C@@H]1C[C@H](C)CCO1</th>\n",
       "      <td>(4S,2R)-(+)-cis-rose oxide</td>\n",
       "      <td>6432154</td>\n",
       "      <td>5.00E+01</td>\n",
       "      <td>ppb</td>\n",
       "      <td>5.000000e+01</td>\n",
       "      <td>herbal, green floral, hay green, earthy, heavy...</td>\n",
       "    </tr>\n",
       "    <tr>\n",
       "      <th>CC(C)=C[C@H]1C[C@@H](C)CCO1</th>\n",
       "      <td>(4R,2S)-(-)-cis-rose oxide</td>\n",
       "      <td>1712087</td>\n",
       "      <td>5.00E-01</td>\n",
       "      <td>ppb</td>\n",
       "      <td>5.000000e-01</td>\n",
       "      <td>floral green with clean sharp, light, rose gre...</td>\n",
       "    </tr>\n",
       "    <tr>\n",
       "      <th>CC1=CC[C@H](C(C)(C)S)CC1</th>\n",
       "      <td>(R)-(+)-1-p-menthen- 8-thiol</td>\n",
       "      <td>44152305</td>\n",
       "      <td>2.00E-05</td>\n",
       "      <td>ppb</td>\n",
       "      <td>2.000000e-05</td>\n",
       "      <td>pleasant odor of fresh grapefruit juice</td>\n",
       "    </tr>\n",
       "    <tr>\n",
       "      <th>CC1=CC[C@@H](C(C)(C)S)CC1</th>\n",
       "      <td>(S)-(-)-1-p-menthen-8-thiol</td>\n",
       "      <td>10877566</td>\n",
       "      <td>8.00E-04</td>\n",
       "      <td>ppb</td>\n",
       "      <td>8.000000e-04</td>\n",
       "      <td>weak, nonspecific odor.</td>\n",
       "    </tr>\n",
       "    <tr>\n",
       "      <th>C[C@H]1CCCCCCCCCCCCC(=O)C1</th>\n",
       "      <td>(S)-(+)- muscone/(S)-(+)-3-methyl cyclopentade...</td>\n",
       "      <td>7160827</td>\n",
       "      <td>2.33E+02</td>\n",
       "      <td>ppb</td>\n",
       "      <td>2.330000e+02</td>\n",
       "      <td>poor, weakly musky</td>\n",
       "    </tr>\n",
       "    <tr>\n",
       "      <th>C[C@@H]1CCCCCCCCCCCCC(=O)C1</th>\n",
       "      <td>(R)-(-)- muscone/(R)--3-methyl cyclopentadecanone</td>\n",
       "      <td>7160826</td>\n",
       "      <td>6.10E+01</td>\n",
       "      <td>ppb</td>\n",
       "      <td>6.100000e+01</td>\n",
       "      <td>rich, powerful, musky</td>\n",
       "    </tr>\n",
       "    <tr>\n",
       "      <th>C[C@@H]1COCc2cc3c(cc21)C(C)(C)[C@H](C)C3(C)C</th>\n",
       "      <td>(4R,7R)-(+)-galaxolide</td>\n",
       "      <td>14177988</td>\n",
       "      <td>4.40E-01</td>\n",
       "      <td>ppb in air</td>\n",
       "      <td>4.400000e-01</td>\n",
       "      <td>weak to almost odorless</td>\n",
       "    </tr>\n",
       "    <tr>\n",
       "      <th>C[C@H]1COCc2cc3c(cc21)C(C)(C)[C@@H](C)C3(C)C</th>\n",
       "      <td>(4S,7S)-(-)-galaxolide</td>\n",
       "      <td>14177991</td>\n",
       "      <td>1.00E-03</td>\n",
       "      <td>ppb in air</td>\n",
       "      <td>1.000000e-03</td>\n",
       "      <td>powerful musk odor</td>\n",
       "    </tr>\n",
       "    <tr>\n",
       "      <th>C/C=C/C(=O)[C@H]1C(C)=CCCC1(C)C</th>\n",
       "      <td>(R)-(+)-(E)-alpha-damascone</td>\n",
       "      <td>1268130</td>\n",
       "      <td>1.00E+02</td>\n",
       "      <td>ppb</td>\n",
       "      <td>1.000000e+02</td>\n",
       "      <td>odor character was reminiscent of rose petals,...</td>\n",
       "    </tr>\n",
       "    <tr>\n",
       "      <th>C/C=C/C(=O)[C@@H]1C(C)=CCCC1(C)C</th>\n",
       "      <td>(S)-(-)-(E)-alpha-damascone</td>\n",
       "      <td>1268132</td>\n",
       "      <td>1.50E+00</td>\n",
       "      <td>ppb</td>\n",
       "      <td>1.500000e+00</td>\n",
       "      <td>floral, reminiscent of rose petals and charact...</td>\n",
       "    </tr>\n",
       "    <tr>\n",
       "      <th>CC[C@@H](C)C=O</th>\n",
       "      <td>(S)-(+)-2-methylbutanal</td>\n",
       "      <td>6971249</td>\n",
       "      <td>1.00E+01</td>\n",
       "      <td>ppm in air</td>\n",
       "      <td>1.000000e+04</td>\n",
       "      <td>pungent, fresh, fruity (Boelens, et. al.); Pec...</td>\n",
       "    </tr>\n",
       "    <tr>\n",
       "      <th>CC[C@H](C)C=O</th>\n",
       "      <td>(R)-(-)-2-methylbutanal</td>\n",
       "      <td>6971248</td>\n",
       "      <td>1.00E+02</td>\n",
       "      <td>ppm in air</td>\n",
       "      <td>1.000000e+05</td>\n",
       "      <td>pungent, caprylic (Boelens, et. al.); Peculiar...</td>\n",
       "    </tr>\n",
       "    <tr>\n",
       "      <th>CC/C=C(\\C)[C@H](O)CCCCC</th>\n",
       "      <td>(R)-(+)-undecavertol</td>\n",
       "      <td>40428776</td>\n",
       "      <td>3.10E-01</td>\n",
       "      <td>ng/L air</td>\n",
       "      <td>3.100000e-04</td>\n",
       "      <td>similar to the racemate smell floral, green, f...</td>\n",
       "    </tr>\n",
       "    <tr>\n",
       "      <th>CC/C=C(\\C)C(O)CCCCC</th>\n",
       "      <td>(S)-(-)-undecavertol</td>\n",
       "      <td>40565487</td>\n",
       "      <td>4.70E+00</td>\n",
       "      <td>ng/L air</td>\n",
       "      <td>4.700000e-03</td>\n",
       "      <td>green fruit with a hint of balsam pinefiru and...</td>\n",
       "    </tr>\n",
       "    <tr>\n",
       "      <th>CC/C=C/C[C@H]1C(=O)CC[C@H]1CC(=O)OC</th>\n",
       "      <td>(1R,2S)-(+)-(Z) Methyl epijasmonate</td>\n",
       "      <td>6427970</td>\n",
       "      <td>3.00E+00</td>\n",
       "      <td>ppb</td>\n",
       "      <td>3.000000e+00</td>\n",
       "      <td>strong, jasmine- like odor</td>\n",
       "    </tr>\n",
       "    <tr>\n",
       "      <th>CC/C=C\\C[C@@H]1C(=O)CC[C@@H]1CC(=O)OC</th>\n",
       "      <td>(1S,2R)-(-)-(Z) Methyl epijasmonate</td>\n",
       "      <td>12566815</td>\n",
       "      <td>1.00E+99</td>\n",
       "      <td>ppb</td>\n",
       "      <td>1.000000e+99</td>\n",
       "      <td>odorless</td>\n",
       "    </tr>\n",
       "    <tr>\n",
       "      <th>CCC[C@@H]1CCO[C@H](C)S1</th>\n",
       "      <td>(2S,4R)-(+) cis-2-methyl-4-propyl-1,3-oxathiane</td>\n",
       "      <td>6931728</td>\n",
       "      <td>2.00E+00</td>\n",
       "      <td>ppb</td>\n",
       "      <td>2.000000e+00</td>\n",
       "      <td>\\xe2\\x80\\x9ctypical sulfurous, with a rubbery ...</td>\n",
       "    </tr>\n",
       "    <tr>\n",
       "      <th>CCC[C@H]1CCO[C@@H](C)S1</th>\n",
       "      <td>(2R,4S)-(-) cis-2-methyl-4-propyl-1,3-oxathiane</td>\n",
       "      <td>6931725</td>\n",
       "      <td>4.00E+00</td>\n",
       "      <td>ppb</td>\n",
       "      <td>4.000000e+00</td>\n",
       "      <td>was found weaker (compare thresholds)and \\xe2\\...</td>\n",
       "    </tr>\n",
       "    <tr>\n",
       "      <th>CCCCC[C@@H]1C(=O)CC[C@@H]1CC(=O)OC</th>\n",
       "      <td>(1R,2S)-(+)-Methyl epidihydrojasmonate</td>\n",
       "      <td>1738122</td>\n",
       "      <td>1.50E+01</td>\n",
       "      <td>ppb</td>\n",
       "      <td>1.500000e+01</td>\n",
       "      <td>intensely floral, jasminelike, bright, cis-jas...</td>\n",
       "    </tr>\n",
       "    <tr>\n",
       "      <th>CCCCC[C@H]1C(=O)CC[C@H]1CC(=O)OC</th>\n",
       "      <td>(1S,2R)-(-)-Methyl epidihydrojasmonate</td>\n",
       "      <td>1738127</td>\n",
       "      <td>1.25E+04</td>\n",
       "      <td>ppb</td>\n",
       "      <td>1.250000e+04</td>\n",
       "      <td>herbal, fatty, tea-like, tobacco, \\xc3\\x9f-dam...</td>\n",
       "    </tr>\n",
       "  </tbody>\n",
       "</table>\n",
       "</div>"
      ],
      "text/plain": [
       "                                                                                  Molecule Name  \\\n",
       "C=C(C)[C@@H]1CC=C(C)C(=O)C1                                                    (4S)-(+)-carvone   \n",
       "C=C(C)[C@H]1CC=C(C)C(=O)C1                                                     (4R)-(-)-carvone   \n",
       "C=C(C)[C@@H]1CCC2=CC(=O)C[C@@H](C)[C@]2(C)C1                         (4R,4aS,6R)-(+) nootkatone   \n",
       "C=C(C)[C@H]1CCC2=CC(=O)C[C@H](C)[C@@]2(C)C1                          (4S,4aR,6S)-(-) nootkatone   \n",
       "C=C1CCCC(C)(C)[C@@H]1/C=C/C(C)=O                                           (S)-(+)-gamma-ionone   \n",
       "C=C1CCCC(C)(C)[C@H]1/C=C/C(C)=O                                            (R)-(-)-gamma-ionone   \n",
       "C=C[C@@H](O)CCCCC                                                         (S)-(+)-1-octen-3-ol    \n",
       "C=C[C@H](O)CCCCC                                                          (R)-(-)-1-octen-3-ol    \n",
       "C=C[C@@]1(C)CC[C@H]([C@@H](C)C=O)O1                               (2R,2\\'R,5\\'R)-Lilac aldehyde   \n",
       "C=C[C@]1(C)CC[C@@H]([C@H](C)C=O)O1                                (2S,2\\'S,5\\'S)-Lilac aldehyde   \n",
       "CC(=O)/C=C/[C@H]1C(C)=CC[C@@H](C)C1(C)C                             (1S,5R)-(+)-cis-alpha-irone   \n",
       "CC(=O)/C=C/[C@@H]1C(C)=CC[C@H](C)C1(C)C                             (1R,5S)-(-)-cis-alpha-irone   \n",
       "CC(C)=C[C@@H]1C[C@H](C)CCO1                                          (4S,2R)-(+)-cis-rose oxide   \n",
       "CC(C)=C[C@H]1C[C@@H](C)CCO1                                          (4R,2S)-(-)-cis-rose oxide   \n",
       "CC1=CC[C@H](C(C)(C)S)CC1                                           (R)-(+)-1-p-menthen- 8-thiol   \n",
       "CC1=CC[C@@H](C(C)(C)S)CC1                                           (S)-(-)-1-p-menthen-8-thiol   \n",
       "C[C@H]1CCCCCCCCCCCCC(=O)C1                    (S)-(+)- muscone/(S)-(+)-3-methyl cyclopentade...   \n",
       "C[C@@H]1CCCCCCCCCCCCC(=O)C1                   (R)-(-)- muscone/(R)--3-methyl cyclopentadecanone   \n",
       "C[C@@H]1COCc2cc3c(cc21)C(C)(C)[C@H](C)C3(C)C                             (4R,7R)-(+)-galaxolide   \n",
       "C[C@H]1COCc2cc3c(cc21)C(C)(C)[C@@H](C)C3(C)C                             (4S,7S)-(-)-galaxolide   \n",
       "C/C=C/C(=O)[C@H]1C(C)=CCCC1(C)C                                     (R)-(+)-(E)-alpha-damascone   \n",
       "C/C=C/C(=O)[C@@H]1C(C)=CCCC1(C)C                                    (S)-(-)-(E)-alpha-damascone   \n",
       "CC[C@@H](C)C=O                                                          (S)-(+)-2-methylbutanal   \n",
       "CC[C@H](C)C=O                                                           (R)-(-)-2-methylbutanal   \n",
       "CC/C=C(\\C)[C@H](O)CCCCC                                                    (R)-(+)-undecavertol   \n",
       "CC/C=C(\\C)C(O)CCCCC                                                        (S)-(-)-undecavertol   \n",
       "CC/C=C/C[C@H]1C(=O)CC[C@H]1CC(=O)OC                         (1R,2S)-(+)-(Z) Methyl epijasmonate   \n",
       "CC/C=C\\C[C@@H]1C(=O)CC[C@@H]1CC(=O)OC                       (1S,2R)-(-)-(Z) Methyl epijasmonate   \n",
       "CCC[C@@H]1CCO[C@H](C)S1                         (2S,4R)-(+) cis-2-methyl-4-propyl-1,3-oxathiane   \n",
       "CCC[C@H]1CCO[C@@H](C)S1                         (2R,4S)-(-) cis-2-methyl-4-propyl-1,3-oxathiane   \n",
       "CCCCC[C@@H]1C(=O)CC[C@@H]1CC(=O)OC                       (1R,2S)-(+)-Methyl epidihydrojasmonate   \n",
       "CCCCC[C@H]1C(=O)CC[C@H]1CC(=O)OC                         (1S,2R)-(-)-Methyl epidihydrojasmonate   \n",
       "\n",
       "                                              Pubchem ID #  \\\n",
       "C=C(C)[C@@H]1CC=C(C)C(=O)C1                          16724   \n",
       "C=C(C)[C@H]1CC=C(C)C(=O)C1                          439570   \n",
       "C=C(C)[C@@H]1CCC2=CC(=O)C[C@@H](C)[C@]2(C)C1       1268142   \n",
       "C=C(C)[C@H]1CCC2=CC(=O)C[C@H](C)[C@@]2(C)C1        7567181   \n",
       "C=C1CCCC(C)(C)[C@@H]1/C=C/C(C)=O                  11194862   \n",
       "C=C1CCCC(C)(C)[C@H]1/C=C/C(C)=O                   11389922   \n",
       "C=C[C@@H](O)CCCCC                                  2724898   \n",
       "C=C[C@H](O)CCCCC                                   6992244   \n",
       "C=C[C@@]1(C)CC[C@H]([C@@H](C)C=O)O1               71587756   \n",
       "C=C[C@]1(C)CC[C@@H]([C@H](C)C=O)O1                  441572   \n",
       "CC(=O)/C=C/[C@H]1C(C)=CC[C@@H](C)C1(C)C            5281521   \n",
       "CC(=O)/C=C/[C@@H]1C(C)=CC[C@H](C)C1(C)C           11009095   \n",
       "CC(C)=C[C@@H]1C[C@H](C)CCO1                        6432154   \n",
       "CC(C)=C[C@H]1C[C@@H](C)CCO1                        1712087   \n",
       "CC1=CC[C@H](C(C)(C)S)CC1                          44152305   \n",
       "CC1=CC[C@@H](C(C)(C)S)CC1                         10877566   \n",
       "C[C@H]1CCCCCCCCCCCCC(=O)C1                         7160827   \n",
       "C[C@@H]1CCCCCCCCCCCCC(=O)C1                        7160826   \n",
       "C[C@@H]1COCc2cc3c(cc21)C(C)(C)[C@H](C)C3(C)C      14177988   \n",
       "C[C@H]1COCc2cc3c(cc21)C(C)(C)[C@@H](C)C3(C)C      14177991   \n",
       "C/C=C/C(=O)[C@H]1C(C)=CCCC1(C)C                    1268130   \n",
       "C/C=C/C(=O)[C@@H]1C(C)=CCCC1(C)C                   1268132   \n",
       "CC[C@@H](C)C=O                                     6971249   \n",
       "CC[C@H](C)C=O                                      6971248   \n",
       "CC/C=C(\\C)[C@H](O)CCCCC                           40428776   \n",
       "CC/C=C(\\C)C(O)CCCCC                               40565487   \n",
       "CC/C=C/C[C@H]1C(=O)CC[C@H]1CC(=O)OC                6427970   \n",
       "CC/C=C\\C[C@@H]1C(=O)CC[C@@H]1CC(=O)OC             12566815   \n",
       "CCC[C@@H]1CCO[C@H](C)S1                            6931728   \n",
       "CCC[C@H]1CCO[C@@H](C)S1                            6931725   \n",
       "CCCCC[C@@H]1C(=O)CC[C@@H]1CC(=O)OC                 1738122   \n",
       "CCCCC[C@H]1C(=O)CC[C@H]1CC(=O)OC                   1738127   \n",
       "\n",
       "                                             Detection Threshold  \\\n",
       "C=C(C)[C@@H]1CC=C(C)C(=O)C1                             1.30E+02   \n",
       "C=C(C)[C@H]1CC=C(C)C(=O)C1                              2.00E+00   \n",
       "C=C(C)[C@@H]1CCC2=CC(=O)C[C@@H](C)[C@]2(C)C1            1.50E+01   \n",
       "C=C(C)[C@H]1CCC2=CC(=O)C[C@H](C)[C@@]2(C)C1             6.60E+04   \n",
       "C=C1CCCC(C)(C)[C@@H]1/C=C/C(C)=O                        7.00E-02   \n",
       "C=C1CCCC(C)(C)[C@H]1/C=C/C(C)=O                         1.10E+01   \n",
       "C=C[C@@H](O)CCCCC                                       1.00E+02   \n",
       "C=C[C@H](O)CCCCC                                        1.00E+01   \n",
       "C=C[C@@]1(C)CC[C@H]([C@@H](C)C=O)O1                     2.20E+01   \n",
       "C=C[C@]1(C)CC[C@@H]([C@H](C)C=O)O1                      2.00E-01   \n",
       "CC(=O)/C=C/[C@H]1C(C)=CC[C@@H](C)C1(C)C                 1.00E+05   \n",
       "CC(=O)/C=C/[C@@H]1C(C)=CC[C@H](C)C1(C)C                 1.00E+04   \n",
       "CC(C)=C[C@@H]1C[C@H](C)CCO1                             5.00E+01   \n",
       "CC(C)=C[C@H]1C[C@@H](C)CCO1                             5.00E-01   \n",
       "CC1=CC[C@H](C(C)(C)S)CC1                                2.00E-05   \n",
       "CC1=CC[C@@H](C(C)(C)S)CC1                               8.00E-04   \n",
       "C[C@H]1CCCCCCCCCCCCC(=O)C1                              2.33E+02   \n",
       "C[C@@H]1CCCCCCCCCCCCC(=O)C1                             6.10E+01   \n",
       "C[C@@H]1COCc2cc3c(cc21)C(C)(C)[C@H](C)C3(C)C            4.40E-01   \n",
       "C[C@H]1COCc2cc3c(cc21)C(C)(C)[C@@H](C)C3(C)C            1.00E-03   \n",
       "C/C=C/C(=O)[C@H]1C(C)=CCCC1(C)C                         1.00E+02   \n",
       "C/C=C/C(=O)[C@@H]1C(C)=CCCC1(C)C                        1.50E+00   \n",
       "CC[C@@H](C)C=O                                          1.00E+01   \n",
       "CC[C@H](C)C=O                                           1.00E+02   \n",
       "CC/C=C(\\C)[C@H](O)CCCCC                                 3.10E-01   \n",
       "CC/C=C(\\C)C(O)CCCCC                                     4.70E+00   \n",
       "CC/C=C/C[C@H]1C(=O)CC[C@H]1CC(=O)OC                     3.00E+00   \n",
       "CC/C=C\\C[C@@H]1C(=O)CC[C@@H]1CC(=O)OC                   1.00E+99   \n",
       "CCC[C@@H]1CCO[C@H](C)S1                                 2.00E+00   \n",
       "CCC[C@H]1CCO[C@@H](C)S1                                 4.00E+00   \n",
       "CCCCC[C@@H]1C(=O)CC[C@@H]1CC(=O)OC                      1.50E+01   \n",
       "CCCCC[C@H]1C(=O)CC[C@H]1CC(=O)OC                        1.25E+04   \n",
       "\n",
       "                                                     Detection Units  \\\n",
       "C=C(C)[C@@H]1CC=C(C)C(=O)C1                                     ppb    \n",
       "C=C(C)[C@H]1CC=C(C)C(=O)C1                                       ppb   \n",
       "C=C(C)[C@@H]1CCC2=CC(=O)C[C@@H](C)[C@]2(C)C1                     ppm   \n",
       "C=C(C)[C@H]1CCC2=CC(=O)C[C@H](C)[C@@]2(C)C1                      ppm   \n",
       "C=C1CCCC(C)(C)[C@@H]1/C=C/C(C)=O                           ppb water   \n",
       "C=C1CCCC(C)(C)[C@H]1/C=C/C(C)=O                            ppb water   \n",
       "C=C[C@@H](O)CCCCC                             ppb in aqueous ethanol   \n",
       "C=C[C@H](O)CCCCC                              ppb in aqueous ethanol   \n",
       "C=C[C@@]1(C)CC[C@H]([C@@H](C)C=O)O1                               ng   \n",
       "C=C[C@]1(C)CC[C@@H]([C@H](C)C=O)O1                                ng   \n",
       "CC(=O)/C=C/[C@H]1C(C)=CC[C@@H](C)C1(C)C                          ppb   \n",
       "CC(=O)/C=C/[C@@H]1C(C)=CC[C@H](C)C1(C)C                          ppb   \n",
       "CC(C)=C[C@@H]1C[C@H](C)CCO1                                      ppb   \n",
       "CC(C)=C[C@H]1C[C@@H](C)CCO1                                      ppb   \n",
       "CC1=CC[C@H](C(C)(C)S)CC1                                        ppb    \n",
       "CC1=CC[C@@H](C(C)(C)S)CC1                                        ppb   \n",
       "C[C@H]1CCCCCCCCCCCCC(=O)C1                                       ppb   \n",
       "C[C@@H]1CCCCCCCCCCCCC(=O)C1                                      ppb   \n",
       "C[C@@H]1COCc2cc3c(cc21)C(C)(C)[C@H](C)C3(C)C              ppb in air   \n",
       "C[C@H]1COCc2cc3c(cc21)C(C)(C)[C@@H](C)C3(C)C              ppb in air   \n",
       "C/C=C/C(=O)[C@H]1C(C)=CCCC1(C)C                                  ppb   \n",
       "C/C=C/C(=O)[C@@H]1C(C)=CCCC1(C)C                                 ppb   \n",
       "CC[C@@H](C)C=O                                            ppm in air   \n",
       "CC[C@H](C)C=O                                             ppm in air   \n",
       "CC/C=C(\\C)[C@H](O)CCCCC                                     ng/L air   \n",
       "CC/C=C(\\C)C(O)CCCCC                                         ng/L air   \n",
       "CC/C=C/C[C@H]1C(=O)CC[C@H]1CC(=O)OC                              ppb   \n",
       "CC/C=C\\C[C@@H]1C(=O)CC[C@@H]1CC(=O)OC                            ppb   \n",
       "CCC[C@@H]1CCO[C@H](C)S1                                          ppb   \n",
       "CCC[C@H]1CCO[C@@H](C)S1                                          ppb   \n",
       "CCCCC[C@@H]1C(=O)CC[C@@H]1CC(=O)OC                               ppb   \n",
       "CCCCC[C@H]1C(=O)CC[C@H]1CC(=O)OC                                 ppb   \n",
       "\n",
       "                                              Normalized Detection Threshold  \\\n",
       "C=C(C)[C@@H]1CC=C(C)C(=O)C1                                     1.300000e+02   \n",
       "C=C(C)[C@H]1CC=C(C)C(=O)C1                                      2.000000e+00   \n",
       "C=C(C)[C@@H]1CCC2=CC(=O)C[C@@H](C)[C@]2(C)C1                    1.500000e+04   \n",
       "C=C(C)[C@H]1CCC2=CC(=O)C[C@H](C)[C@@]2(C)C1                     6.600000e+07   \n",
       "C=C1CCCC(C)(C)[C@@H]1/C=C/C(C)=O                                7.000000e-02   \n",
       "C=C1CCCC(C)(C)[C@H]1/C=C/C(C)=O                                 1.100000e+01   \n",
       "C=C[C@@H](O)CCCCC                                               1.000000e+02   \n",
       "C=C[C@H](O)CCCCC                                                1.000000e+01   \n",
       "C=C[C@@]1(C)CC[C@H]([C@@H](C)C=O)O1                             2.200000e-02   \n",
       "C=C[C@]1(C)CC[C@@H]([C@H](C)C=O)O1                              2.000000e-04   \n",
       "CC(=O)/C=C/[C@H]1C(C)=CC[C@@H](C)C1(C)C                         1.000000e+05   \n",
       "CC(=O)/C=C/[C@@H]1C(C)=CC[C@H](C)C1(C)C                         1.000000e+04   \n",
       "CC(C)=C[C@@H]1C[C@H](C)CCO1                                     5.000000e+01   \n",
       "CC(C)=C[C@H]1C[C@@H](C)CCO1                                     5.000000e-01   \n",
       "CC1=CC[C@H](C(C)(C)S)CC1                                        2.000000e-05   \n",
       "CC1=CC[C@@H](C(C)(C)S)CC1                                       8.000000e-04   \n",
       "C[C@H]1CCCCCCCCCCCCC(=O)C1                                      2.330000e+02   \n",
       "C[C@@H]1CCCCCCCCCCCCC(=O)C1                                     6.100000e+01   \n",
       "C[C@@H]1COCc2cc3c(cc21)C(C)(C)[C@H](C)C3(C)C                    4.400000e-01   \n",
       "C[C@H]1COCc2cc3c(cc21)C(C)(C)[C@@H](C)C3(C)C                    1.000000e-03   \n",
       "C/C=C/C(=O)[C@H]1C(C)=CCCC1(C)C                                 1.000000e+02   \n",
       "C/C=C/C(=O)[C@@H]1C(C)=CCCC1(C)C                                1.500000e+00   \n",
       "CC[C@@H](C)C=O                                                  1.000000e+04   \n",
       "CC[C@H](C)C=O                                                   1.000000e+05   \n",
       "CC/C=C(\\C)[C@H](O)CCCCC                                         3.100000e-04   \n",
       "CC/C=C(\\C)C(O)CCCCC                                             4.700000e-03   \n",
       "CC/C=C/C[C@H]1C(=O)CC[C@H]1CC(=O)OC                             3.000000e+00   \n",
       "CC/C=C\\C[C@@H]1C(=O)CC[C@@H]1CC(=O)OC                           1.000000e+99   \n",
       "CCC[C@@H]1CCO[C@H](C)S1                                         2.000000e+00   \n",
       "CCC[C@H]1CCO[C@@H](C)S1                                         4.000000e+00   \n",
       "CCCCC[C@@H]1C(=O)CC[C@@H]1CC(=O)OC                              1.500000e+01   \n",
       "CCCCC[C@H]1C(=O)CC[C@H]1CC(=O)OC                                1.250000e+04   \n",
       "\n",
       "                                                                                 Molecule Odour  \n",
       "C=C(C)[C@@H]1CC=C(C)C(=O)C1                                               caraway, fresh herbal  \n",
       "C=C(C)[C@H]1CC=C(C)C(=O)C1                                        sweet spearmint, fresh herbal  \n",
       "C=C(C)[C@@H]1CCC2=CC(=O)C[C@@H](C)[C@]2(C)C1                                    grapefruit odor  \n",
       "C=C(C)[C@H]1CCC2=CC(=O)C[C@H](C)[C@@]2(C)C1                                     woody and spicy  \n",
       "C=C1CCCC(C)(C)[C@@H]1/C=C/C(C)=O              Linear, very pleasant, floral, green, woody od...  \n",
       "C=C1CCCC(C)(C)[C@H]1/C=C/C(C)=O               Weak green, fruity, pineapple-like odor with m...  \n",
       "C=C[C@@H](O)CCCCC                             moldy, grassy, artificial; also desribed as he...  \n",
       "C=C[C@H](O)CCCCC                              fruity, genuine mushroom-like; also desribed a...  \n",
       "C=C[C@@]1(C)CC[C@H]([C@@H](C)C=O)O1                                                     flowery  \n",
       "C=C[C@]1(C)CC[C@@H]([C@H](C)C=O)O1                                               fresh, flowery  \n",
       "CC(=O)/C=C/[C@H]1C(C)=CC[C@@H](C)C1(C)C       iris, sweet irone odour, woody ionone, floral,...  \n",
       "CC(=O)/C=C/[C@@H]1C(C)=CC[C@H](C)C1(C)C       odourless (Galfry, et.al, by GC sniffing); In ...  \n",
       "CC(C)=C[C@@H]1C[C@H](C)CCO1                   herbal, green floral, hay green, earthy, heavy...  \n",
       "CC(C)=C[C@H]1C[C@@H](C)CCO1                   floral green with clean sharp, light, rose gre...  \n",
       "CC1=CC[C@H](C(C)(C)S)CC1                                pleasant odor of fresh grapefruit juice  \n",
       "CC1=CC[C@@H](C(C)(C)S)CC1                                               weak, nonspecific odor.  \n",
       "C[C@H]1CCCCCCCCCCCCC(=O)C1                                                   poor, weakly musky  \n",
       "C[C@@H]1CCCCCCCCCCCCC(=O)C1                                               rich, powerful, musky  \n",
       "C[C@@H]1COCc2cc3c(cc21)C(C)(C)[C@H](C)C3(C)C                           weak to almost odorless   \n",
       "C[C@H]1COCc2cc3c(cc21)C(C)(C)[C@@H](C)C3(C)C                                 powerful musk odor  \n",
       "C/C=C/C(=O)[C@H]1C(C)=CCCC1(C)C               odor character was reminiscent of rose petals,...  \n",
       "C/C=C/C(=O)[C@@H]1C(C)=CCCC1(C)C              floral, reminiscent of rose petals and charact...  \n",
       "CC[C@@H](C)C=O                                pungent, fresh, fruity (Boelens, et. al.); Pec...  \n",
       "CC[C@H](C)C=O                                 pungent, caprylic (Boelens, et. al.); Peculiar...  \n",
       "CC/C=C(\\C)[C@H](O)CCCCC                       similar to the racemate smell floral, green, f...  \n",
       "CC/C=C(\\C)C(O)CCCCC                           green fruit with a hint of balsam pinefiru and...  \n",
       "CC/C=C/C[C@H]1C(=O)CC[C@H]1CC(=O)OC                                  strong, jasmine- like odor  \n",
       "CC/C=C\\C[C@@H]1C(=O)CC[C@@H]1CC(=O)OC                                                  odorless  \n",
       "CCC[C@@H]1CCO[C@H](C)S1                       \\xe2\\x80\\x9ctypical sulfurous, with a rubbery ...  \n",
       "CCC[C@H]1CCO[C@@H](C)S1                       was found weaker (compare thresholds)and \\xe2\\...  \n",
       "CCCCC[C@@H]1C(=O)CC[C@@H]1CC(=O)OC            intensely floral, jasminelike, bright, cis-jas...  \n",
       "CCCCC[C@H]1C(=O)CC[C@H]1CC(=O)OC              herbal, fatty, tea-like, tobacco, \\xc3\\x9f-dam...  "
      ]
     },
     "execution_count": 17,
     "metadata": {},
     "output_type": "execute_result"
    }
   ],
   "source": [
    "shadmany_data"
   ]
  },
  {
   "cell_type": "markdown",
   "metadata": {},
   "source": [
    "## Compute DREAM molecule features and place into a data frame"
   ]
  },
  {
   "cell_type": "code",
   "execution_count": 18,
   "metadata": {},
   "outputs": [
    {
     "name": "stdout",
     "output_type": "stream",
     "text": [
      "507 similarity features for 507 molecules\n"
     ]
    }
   ],
   "source": [
    "# Compute Morgan features for DREAM molecules\n",
    "all_smiles = list(set(dream_smiles + shadmany_smiles))\n",
    "morgan_sim_all = a.smiles_to_morgan_sim(all_smiles,all_smiles)"
   ]
  },
  {
   "cell_type": "code",
   "execution_count": 19,
   "metadata": {},
   "outputs": [],
   "source": [
    "# Compute NSPDK features for DREAM molecules\n",
    "if a.HAS_OBABEL:\n",
    "    nspdk_all = a.smiles_to_nspdk(all_smiles)\n",
    "else:\n",
    "    nspdk_all = []"
   ]
  },
  {
   "cell_type": "code",
   "execution_count": 20,
   "metadata": {},
   "outputs": [
    {
     "name": "stdout",
     "output_type": "stream",
     "text": [
      "Convering SMILES string to Mol format...\n",
      "Computing 3D coordinates...\n",
      "Computing Mordred features...\n"
     ]
    },
    {
     "name": "stderr",
     "output_type": "stream",
     "text": [
      "100%|██████████| 507/507 [00:17<00:00, 29.34it/s]\n"
     ]
    },
    {
     "name": "stdout",
     "output_type": "stream",
     "text": [
      "There are 507 molecules and 1824 features\n"
     ]
    }
   ],
   "source": [
    "# Compute Dragon or Mordred features for DREAM molecules\n",
    "if a.USE_DRAGON:\n",
    "    dragon_all = a.smiles_to_dragon(all_smiles)\n",
    "else:\n",
    "    dragon_all = a.smiles_to_mordred(all_smiles)"
   ]
  },
  {
   "cell_type": "code",
   "execution_count": 21,
   "metadata": {},
   "outputs": [],
   "source": [
    "# Combine all DREAM molecular features into one dataframe\n",
    "molecular_data_all = dragon_all.join(nspdk_all).join(morgan_sim_all).astype('float')"
   ]
  },
  {
   "cell_type": "code",
   "execution_count": 22,
   "metadata": {},
   "outputs": [],
   "source": [
    "molecular_data_dream = molecular_data_all.loc[dream_smiles]\n",
    "# Reindex by the CIDs instead of the SMILES strings\n",
    "assert list(molecular_data_dream.index)==dream_smiles\n",
    "molecular_data_dream.index = dream_CIDs"
   ]
  },
  {
   "cell_type": "code",
   "execution_count": 23,
   "metadata": {},
   "outputs": [
    {
     "name": "stdout",
     "output_type": "stream",
     "text": [
      "The X matrix now has shape (952x1697) molecules by non-NaN good molecular descriptors\n"
     ]
    }
   ],
   "source": [
    "# Compute the final DREAM molecular features matrix.  \n",
    "X_dream,good1,good2,means,stds,imputer = a.dream.make_X(molecular_data_dream,dream_CID_dilutions)"
   ]
  },
  {
   "cell_type": "code",
   "execution_count": 24,
   "metadata": {},
   "outputs": [
    {
     "name": "stdout",
     "output_type": "stream",
     "text": [
      "The X matrix now has shape (32x1697) molecules by non-NaN good molecular descriptors\n"
     ]
    }
   ],
   "source": [
    "dummy_intensity = -3.0\n",
    "shadmany_CIDs = [shadmany_data.loc[smile]['Pubchem ID #'] for smile in shadmany_smiles]\n",
    "shadmany_CID_dilutions = [(shadmany_data.loc[smile]['Pubchem ID #'],dummy_intensity) for smile in shadmany_smiles]\n",
    "molecular_data_shadmany = molecular_data_all.loc[shadmany_smiles]\n",
    "assert list(molecular_data_shadmany.index) == shadmany_smiles\n",
    "molecular_data_shadmany.index = shadmany_CIDs\n",
    "X_shadmany = a.dream.make_X(molecular_data_shadmany,shadmany_CID_dilutions,\n",
    "                            good1=good1,good2=good2,means=means,stds=stds)[0]\n",
    "# Reorder molecules to match the order in the spreadsheet\n",
    "X_shadmany = X_shadmany.loc[[(cid,dummy_intensity) for cid in shadmany_data['Pubchem ID #']]]\n",
    "# Confirm that the order matches\n",
    "assert list(X_shadmany.index.get_level_values('CID')) == list(shadmany_data['Pubchem ID #'])"
   ]
  },
  {
   "cell_type": "markdown",
   "metadata": {},
   "source": [
    "## Fit model to DREAM data"
   ]
  },
  {
   "cell_type": "code",
   "execution_count": 25,
   "metadata": {},
   "outputs": [
    {
     "name": "stdout",
     "output_type": "stream",
     "text": [
      "1. Fitting model for Intensity...\n"
     ]
    }
   ],
   "source": [
    "# Model for DREAM data\n",
    "rfs = {}\n",
    "n_estimators = 25\n",
    "these_descriptors = a.descriptors[:1] # Just intensity\n",
    "Y_dream_mean = Y_dream.stack('Descriptor').mean(axis=1).unstack('Descriptor')\n",
    "for i,descriptor in enumerate(these_descriptors):\n",
    "    print(\"%d. Fitting model for %s...\" % (i+1,descriptor))\n",
    "    rfs[descriptor] = a.RandomForestRegressor(n_estimators=n_estimators)\n",
    "    valid = Y_dream_mean[descriptor].notnull()\n",
    "    rfs[descriptor].fit(X_dream.loc[valid].as_matrix(),Y_dream_mean[descriptor].loc[valid].as_matrix())"
   ]
  },
  {
   "cell_type": "code",
   "execution_count": 26,
   "metadata": {},
   "outputs": [
    {
     "name": "stdout",
     "output_type": "stream",
     "text": [
      "0.693696324394\n",
      "0.663224096853\n",
      "0.651281217356\n"
     ]
    }
   ],
   "source": [
    "# Check model quality by cross-validation on the DREAM data.  \n",
    "from sklearn.model_selection import GroupShuffleSplit\n",
    "x = X_dream.loc[valid]\n",
    "y = Y_dream_mean[descriptor].loc[valid]\n",
    "groups = x.index.get_level_values('CID')\n",
    "ss = GroupShuffleSplit(n_splits=3)\n",
    "for train,test in ss.split(x,groups=groups):\n",
    "    rfs['Intensity'] = a.RandomForestRegressor(n_estimators=25,random_state=0)\n",
    "    rfs['Intensity'].fit(x.iloc[train].as_matrix(),y.iloc[train].as_matrix())\n",
    "    predicted = rfs['Intensity'].predict(x.iloc[test].as_matrix())\n",
    "    observed = y.iloc[test]\n",
    "    print(a.np.corrcoef(predicted,observed)[0,1])"
   ]
  },
  {
   "cell_type": "markdown",
   "metadata": {},
   "source": [
    "## Compute predictions and display"
   ]
  },
  {
   "cell_type": "code",
   "execution_count": 27,
   "metadata": {},
   "outputs": [
    {
     "name": "stdout",
     "output_type": "stream",
     "text": [
      "t=-10.354, p=6.46e-23\n"
     ]
    },
    {
     "data": {
      "image/png": "[encoded data removed]",
      "text/plain": [
       "<matplotlib.figure.Figure at 0x7fb5142f66a0>"
      ]
     },
     "metadata": {},
     "output_type": "display_data"
    }
   ],
   "source": [
    "a.compare_smiles_lengths(dream_smiles,shadmany_smiles,['DREAM','Enantiomers']);"
   ]
  },
  {
   "cell_type": "code",
   "execution_count": 28,
   "metadata": {},
   "outputs": [
    {
     "name": "stdout",
     "output_type": "stream",
     "text": [
      "t=-3.964, p=8.42e-05\n"
     ]
    },
    {
     "data": {
      "image/png": "[encoded data removed]",
      "text/plain": [
       "<matplotlib.figure.Figure at 0x7fb5144c4e80>"
      ]
     },
     "metadata": {},
     "output_type": "display_data"
    }
   ],
   "source": [
    "a.compare_molecular_weights(molecular_data_dream,molecular_data_shadmany,['DREAM','Enantiomers']);"
   ]
  },
  {
   "cell_type": "code",
   "execution_count": 29,
   "metadata": {},
   "outputs": [],
   "source": [
    "predictions = a.make_predictions(rfs,X_shadmany,['Intensity'])"
   ]
  },
  {
   "cell_type": "code",
   "execution_count": 30,
   "metadata": {},
   "outputs": [],
   "source": [
    "plus_pred = predictions.iloc[0::2]['Intensity'].values\n",
    "minus_pred = predictions.iloc[1::2]['Intensity'].values"
   ]
  },
  {
   "cell_type": "code",
   "execution_count": 31,
   "metadata": {},
   "outputs": [
    {
     "data": {
      "image/png": "[encoded data removed]",
      "text/plain": [
       "<matplotlib.figure.Figure at 0x7fb514f99390>"
      ]
     },
     "metadata": {},
     "output_type": "display_data"
    }
   ],
   "source": [
    "a.plt.scatter(plus_pred,minus_pred)\n",
    "a.plt.plot([0,100],[0,100],'--')\n",
    "a.plt.xlabel('(+) intensity prediction')\n",
    "a.plt.ylabel('(-) intensity prediction')\n",
    "a.plt.show()"
   ]
  },
  {
   "cell_type": "code",
   "execution_count": 32,
   "metadata": {},
   "outputs": [],
   "source": [
    "plus_thresh = shadmany_data.iloc[0::2]['Normalized Detection Threshold'].values\n",
    "minus_thresh = shadmany_data.iloc[1::2]['Normalized Detection Threshold'].values\n",
    "plus_thresh = a.np.clip(plus_thresh,1e-8,1e8)\n",
    "minus_thresh = a.np.clip(minus_thresh,1e-8,1e8)"
   ]
  },
  {
   "cell_type": "code",
   "execution_count": 33,
   "metadata": {},
   "outputs": [
    {
     "data": {
      "image/png": "[encoded data removed]",
      "text/plain": [
       "<matplotlib.figure.Figure at 0x7fb4ffcb1d30>"
      ]
     },
     "metadata": {},
     "output_type": "display_data"
    }
   ],
   "source": [
    "a.plt.scatter(plus_thresh,minus_thresh)\n",
    "a.plt.plot([1e-7,1e9],[1e-7,1e9],'--')\n",
    "a.plt.xlim(1e-7,1e9)\n",
    "a.plt.ylim(1e-7,1e9)\n",
    "a.plt.xscale('log')\n",
    "a.plt.yscale('log')\n",
    "a.plt.xlabel('(+) detection threshold (ppb)')\n",
    "a.plt.ylabel('(-) detection threshold (ppb)')\n",
    "a.plt.show()"
   ]
  },
  {
   "cell_type": "code",
   "execution_count": 34,
   "metadata": {},
   "outputs": [
    {
     "data": {
      "image/png": "[encoded data removed]",
      "text/plain": [
       "<matplotlib.figure.Figure at 0x7fb4f24e5390>"
      ]
     },
     "metadata": {},
     "output_type": "display_data"
    }
   ],
   "source": [
    "delta_pred = plus_pred - minus_pred\n",
    "delta_thresh = a.np.log10(minus_thresh / plus_thresh)\n",
    "inds = delta_thresh.argsort()\n",
    "delta_pred = delta_pred[inds]\n",
    "delta_thresh = delta_thresh[inds]\n",
    "negative = delta_thresh < 0\n",
    "delta_thresh[negative] *= -1\n",
    "delta_pred[negative] *= -1\n",
    "a.plt.scatter(delta_pred,delta_thresh)\n",
    "a.plt.xlabel('Predicted intensity difference (+) vs (-)')\n",
    "a.plt.ylabel('Actual detection threshold difference\\n in log units (+) vs (-)')\n",
    "a.plt.plot([0,0],[0,8],'--')\n",
    "a.plt.xlim(-1,1)\n",
    "a.plt.show()"
   ]
  },
  {
   "cell_type": "code",
   "execution_count": 35,
   "metadata": {},
   "outputs": [
    {
     "name": "stdout",
     "output_type": "stream",
     "text": [
      "Correlation coefficient R = nan\n"
     ]
    },
    {
     "name": "stderr",
     "output_type": "stream",
     "text": [
      "/home/rgerkin/miniconda3/lib/python3.6/site-packages/numpy/lib/function_base.py:3167: RuntimeWarning: invalid value encountered in true_divide\n",
      "  c /= stddev[:, None]\n",
      "/home/rgerkin/miniconda3/lib/python3.6/site-packages/numpy/lib/function_base.py:3168: RuntimeWarning: invalid value encountered in true_divide\n",
      "  c /= stddev[None, :]\n"
     ]
    }
   ],
   "source": [
    "print(\"Correlation coefficient R = %.3f\" % a.np.corrcoef(delta_pred,delta_thresh)[0,1])"
   ]
  },
  {
   "cell_type": "code",
   "execution_count": 36,
   "metadata": {},
   "outputs": [
    {
     "data": {
      "image/png": "[encoded data removed]",
      "text/plain": [
       "<matplotlib.figure.Figure at 0x7fb4f24edc18>"
      ]
     },
     "metadata": {},
     "output_type": "display_data"
    },
    {
     "name": "stdout",
     "output_type": "stream",
     "text": [
      "Correlation between predicted intensity and actual detection thresholds is R=-0.359\n"
     ]
    }
   ],
   "source": [
    "a.plt.scatter(plus_thresh,plus_pred,color='r',label='(+)')\n",
    "a.plt.scatter(minus_thresh,minus_pred,color='b',label='(-)')\n",
    "a.plt.xscale('log')\n",
    "a.plt.xlim(1e-9,1e9)\n",
    "a.plt.xlabel('Detection Threshold (ppb)')\n",
    "a.plt.ylabel('Predicted Intensity')\n",
    "a.plt.legend()\n",
    "a.plt.show()\n",
    "print(\"Correlation between predicted intensity and actual detection thresholds is R=%.3f\" % \\\n",
    "      a.np.corrcoef(a.np.concatenate((plus_thresh,minus_thresh)),a.np.concatenate((plus_pred,minus_pred)))[0,1])"
   ]
  },
  {
   "cell_type": "code",
   "execution_count": null,
   "metadata": {},
   "outputs": [],
   "source": []
  }
 ],
 "metadata": {
  "kernelspec": {
   "display_name": "Python 3.7.3 ('base')",
   "language": "python",
   "name": "python3"
  },
  "language_info": {
   "codemirror_mode": {
    "name": "ipython",
    "version": 3
   },
   "file_extension": ".py",
   "mimetype": "text/x-python",
   "name": "python",
   "nbconvert_exporter": "python",
   "pygments_lexer": "ipython3",
   "version": "3.7.3"
  },
  "vscode": {
   "interpreter": {
    "hash": "f48e850f9ba95f784ffa8abe9e192013ea9f7c58fba7063fff0218a6f7b5b546"
   }
  }
 },
 "nbformat": 4,
 "nbformat_minor": 1
}
