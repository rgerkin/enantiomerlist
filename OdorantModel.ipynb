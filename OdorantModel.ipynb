{
 "cells": [
  {
   "cell_type": "markdown",
   "metadata": {},
   "source": [
    "## Preliminaries"
   ]
  },
  {
   "cell_type": "code",
   "execution_count": 105,
   "metadata": {},
   "outputs": [],
   "source": [
    "# TODO: Recursive feature elimination to improve model and identify features\n",
    "# TODO: Use harmonic mean (within pair) detection threshold as predictor\n",
    "# TODO: Make detection threshold model (using features).  Use predicted threshold as predictor\n",
    "#slight change to see if I can commit"
   ]
  },
  {
   "cell_type": "code",
   "execution_count": 106,
   "metadata": {},
   "outputs": [
    {
     "name": "stdout",
     "output_type": "stream",
     "text": [
      "The autoreload extension is already loaded. To reload it, use:\n",
      "  %reload_ext autoreload\n"
     ]
    }
   ],
   "source": [
    "#Gets the updates from the development files you imported\n",
    "%load_ext autoreload\n",
    "%autoreload 2\n",
    "%matplotlib inline"
   ]
  },
  {
   "cell_type": "code",
   "execution_count": 107,
   "metadata": {},
   "outputs": [],
   "source": [
    "#Imports the pands library, the math library, and the init class python file\n",
    "#Last line: updates matlab library that is used in init file\n",
    "import __init__ as a\n",
    "import math\n",
    "import numpy as np\n",
    "import matplotlib.pyplot as plt\n",
    "import pandas as pd\n",
    "import pyrfume \n",
    "import seaborn as sns\n",
    "from sklearn.preprocessing import StandardScaler\n",
    "sns.set(font_scale=1.2)\n",
    "#a.mpl.rcParams['font.size'] = 12"
   ]
  },
  {
   "cell_type": "code",
   "execution_count": 108,
   "metadata": {},
   "outputs": [],
   "source": [
    "#coleman_data.drop(['Resources', 'N', 'Normalized Detection Threshold', 'Note'], axis=1).head()"
   ]
  },
  {
   "cell_type": "markdown",
   "metadata": {},
   "source": [
    "## Start of Project"
   ]
  },
  {
   "cell_type": "code",
   "execution_count": 137,
   "metadata": {},
   "outputs": [
    {
     "name": "stdout",
     "output_type": "stream",
     "text": [
      "Loaded 456 molecules\n"
     ]
    },
    {
     "data": {
      "text/html": [
       "<div>\n",
       "<style scoped>\n",
       "    .dataframe tbody tr th:only-of-type {\n",
       "        vertical-align: middle;\n",
       "    }\n",
       "\n",
       "    .dataframe tbody tr th {\n",
       "        vertical-align: top;\n",
       "    }\n",
       "\n",
       "    .dataframe thead th {\n",
       "        text-align: right;\n",
       "    }\n",
       "</style>\n",
       "<table border=\"1\" class=\"dataframe\">\n",
       "  <thead>\n",
       "    <tr style=\"text-align: right;\">\n",
       "      <th></th>\n",
       "      <th>Molecule Name</th>\n",
       "      <th>Pubchem ID #</th>\n",
       "      <th>Note</th>\n",
       "      <th>SMILES String</th>\n",
       "      <th>Detection Threshold</th>\n",
       "      <th>Detection Units</th>\n",
       "      <th>Normalized Detection Threshold</th>\n",
       "      <th>Molecule Odour</th>\n",
       "      <th>Resources</th>\n",
       "      <th>N</th>\n",
       "    </tr>\n",
       "  </thead>\n",
       "  <tbody>\n",
       "    <tr>\n",
       "      <th>0</th>\n",
       "      <td>(R)-(-)-gamma-ionone</td>\n",
       "      <td>11389922</td>\n",
       "      <td>NaN</td>\n",
       "      <td>CC(=O)/C=C/[C@H]1C(=C)CCCC1(C)C</td>\n",
       "      <td>1.10E+01</td>\n",
       "      <td>ppb water</td>\n",
       "      <td>11.00</td>\n",
       "      <td>Weak green, fruity, pineapple-like odor with m...</td>\n",
       "      <td>Rows 66-100 are from here: https://www.jstage....</td>\n",
       "      <td>0</td>\n",
       "    </tr>\n",
       "    <tr>\n",
       "      <th>1</th>\n",
       "      <td>(S)-(+)-gamma-ionone</td>\n",
       "      <td>11194862</td>\n",
       "      <td>NaN</td>\n",
       "      <td>CC(=O)/C=C/[C@@H]1C(=C)CCCC1(C)C</td>\n",
       "      <td>7.00E-02</td>\n",
       "      <td>ppb water</td>\n",
       "      <td>0.07</td>\n",
       "      <td>Linear, very pleasant, floral, green, woody od...</td>\n",
       "      <td>Rows 101-121 are from here: https://github.com...</td>\n",
       "      <td>0</td>\n",
       "    </tr>\n",
       "    <tr>\n",
       "      <th>2</th>\n",
       "      <td>(4R)-(-)-carvone</td>\n",
       "      <td>439570</td>\n",
       "      <td>NaN</td>\n",
       "      <td>CC1=CC[C@H](CC1=O)C(=C)C</td>\n",
       "      <td>2.00E+00</td>\n",
       "      <td>ppb</td>\n",
       "      <td>2.00</td>\n",
       "      <td>sweet spearmint, fresh herbal</td>\n",
       "      <td>Rows 122 - 193 are from here: https://github.c...</td>\n",
       "      <td>1</td>\n",
       "    </tr>\n",
       "    <tr>\n",
       "      <th>3</th>\n",
       "      <td>(4S)-(+)-carvone</td>\n",
       "      <td>16724</td>\n",
       "      <td>NaN</td>\n",
       "      <td>CC1=CC[C@@H](CC1=O)C(=C)C</td>\n",
       "      <td>1.30E+02</td>\n",
       "      <td>ppb</td>\n",
       "      <td>130.00</td>\n",
       "      <td>caraway, fresh herbal</td>\n",
       "      <td>Rows 194-223 are from here: https://github.com...</td>\n",
       "      <td>1</td>\n",
       "    </tr>\n",
       "    <tr>\n",
       "      <th>4</th>\n",
       "      <td>(4R,7R)-(+)-galaxolide</td>\n",
       "      <td>14177988</td>\n",
       "      <td>NaN</td>\n",
       "      <td>C[C@H]1COCC2=CC3=C(C=C12)C([C@H](C3(C)C)C)(C)C</td>\n",
       "      <td>4.40E-01</td>\n",
       "      <td>ppb in air</td>\n",
       "      <td>0.44</td>\n",
       "      <td>weak to almost odorless</td>\n",
       "      <td>Rows 224-267 are from here: https://github.com...</td>\n",
       "      <td>2</td>\n",
       "    </tr>\n",
       "  </tbody>\n",
       "</table>\n",
       "</div>"
      ],
      "text/plain": [
       "            Molecule Name  Pubchem ID # Note  \\\n",
       "0    (R)-(-)-gamma-ionone      11389922  NaN   \n",
       "1    (S)-(+)-gamma-ionone      11194862  NaN   \n",
       "2        (4R)-(-)-carvone        439570  NaN   \n",
       "3        (4S)-(+)-carvone         16724  NaN   \n",
       "4  (4R,7R)-(+)-galaxolide      14177988  NaN   \n",
       "\n",
       "                                    SMILES String Detection Threshold  \\\n",
       "0                 CC(=O)/C=C/[C@H]1C(=C)CCCC1(C)C            1.10E+01   \n",
       "1                CC(=O)/C=C/[C@@H]1C(=C)CCCC1(C)C            7.00E-02   \n",
       "2                        CC1=CC[C@H](CC1=O)C(=C)C            2.00E+00   \n",
       "3                       CC1=CC[C@@H](CC1=O)C(=C)C            1.30E+02   \n",
       "4  C[C@H]1COCC2=CC3=C(C=C12)C([C@H](C3(C)C)C)(C)C            4.40E-01   \n",
       "\n",
       "  Detection Units  Normalized Detection Threshold  \\\n",
       "0       ppb water                           11.00   \n",
       "1       ppb water                            0.07   \n",
       "2             ppb                            2.00   \n",
       "3             ppb                          130.00   \n",
       "4      ppb in air                            0.44   \n",
       "\n",
       "                                      Molecule Odour  \\\n",
       "0  Weak green, fruity, pineapple-like odor with m...   \n",
       "1  Linear, very pleasant, floral, green, woody od...   \n",
       "2                      sweet spearmint, fresh herbal   \n",
       "3                              caraway, fresh herbal   \n",
       "4                            weak to almost odorless   \n",
       "\n",
       "                                           Resources  N  \n",
       "0  Rows 66-100 are from here: https://www.jstage....  0  \n",
       "1  Rows 101-121 are from here: https://github.com...  0  \n",
       "2  Rows 122 - 193 are from here: https://github.c...  1  \n",
       "3  Rows 194-223 are from here: https://github.com...  1  \n",
       "4  Rows 224-267 are from here: https://github.com...  2  "
      ]
     },
     "execution_count": 137,
     "metadata": {},
     "output_type": "execute_result"
    }
   ],
   "source": [
    "# This section loads in the data and groups each pair of enantiomers by making them have the same number associated with column \"N\"\n",
    "# We also set the Normalized Detection Thresholds to be of the same type as a way of trying to avoid type errors later on\n",
    "# This section also takes each pair of enantiomers and computes the ratio of the Normalized Detection Thresholds between the two\n",
    "# The ratio is saved and will be used when the dataset gets cut in half\n",
    "coleman_smiles = a.load_other_smiles(coleman=True)\n",
    "coleman_data = a.load_data(\"coleman\")#.iloc[1:]\n",
    "coleman_data['N'] = np.arange(0, coleman_data.shape[0]/2, 0.5).astype(int)\n",
    "coleman_data['Normalized Detection Threshold'] = coleman_data['Normalized Detection Threshold'].astype('float')\n",
    "coleman_data.head()"
   ]
  },
  {
   "cell_type": "code",
   "execution_count": 110,
   "metadata": {},
   "outputs": [
    {
     "data": {
      "text/html": [
       "<div>\n",
       "<style scoped>\n",
       "    .dataframe tbody tr th:only-of-type {\n",
       "        vertical-align: middle;\n",
       "    }\n",
       "\n",
       "    .dataframe tbody tr th {\n",
       "        vertical-align: top;\n",
       "    }\n",
       "\n",
       "    .dataframe thead th {\n",
       "        text-align: right;\n",
       "    }\n",
       "</style>\n",
       "<table border=\"1\" class=\"dataframe\">\n",
       "  <thead>\n",
       "    <tr style=\"text-align: right;\">\n",
       "      <th></th>\n",
       "      <th>Molecule Name</th>\n",
       "      <th>Pubchem ID #</th>\n",
       "      <th>Note</th>\n",
       "      <th>SMILES String</th>\n",
       "      <th>Detection Threshold</th>\n",
       "      <th>Detection Units</th>\n",
       "      <th>Normalized Detection Threshold</th>\n",
       "      <th>Molecule Odour</th>\n",
       "      <th>Resources</th>\n",
       "      <th>N</th>\n",
       "    </tr>\n",
       "  </thead>\n",
       "  <tbody>\n",
       "    <tr>\n",
       "      <th>72</th>\n",
       "      <td>(3R)-(-)-linalool</td>\n",
       "      <td>443158</td>\n",
       "      <td>NaN</td>\n",
       "      <td>CC(=CCC[C@](C)(C=C)O)C</td>\n",
       "      <td>8.00E-04</td>\n",
       "      <td>ppb</td>\n",
       "      <td>0.0008</td>\n",
       "      <td>floral, woody lavender</td>\n",
       "      <td>NaN</td>\n",
       "      <td>36</td>\n",
       "    </tr>\n",
       "    <tr>\n",
       "      <th>73</th>\n",
       "      <td>(3S)-(+)-linalool</td>\n",
       "      <td>67179</td>\n",
       "      <td>NaN</td>\n",
       "      <td>CC(=CCC[C@](C)(C=C)O)C</td>\n",
       "      <td>7.40E-03</td>\n",
       "      <td>ppb</td>\n",
       "      <td>0.0074</td>\n",
       "      <td>sweet, floral; odor reminiscent of petitgrain ...</td>\n",
       "      <td>NaN</td>\n",
       "      <td>36</td>\n",
       "    </tr>\n",
       "  </tbody>\n",
       "</table>\n",
       "</div>"
      ],
      "text/plain": [
       "        Molecule Name  Pubchem ID # Note           SMILES String  \\\n",
       "72  (3R)-(-)-linalool        443158  NaN  CC(=CCC[C@](C)(C=C)O)C   \n",
       "73  (3S)-(+)-linalool         67179  NaN  CC(=CCC[C@](C)(C=C)O)C   \n",
       "\n",
       "   Detection Threshold Detection Units  Normalized Detection Threshold  \\\n",
       "72            8.00E-04             ppb                          0.0008   \n",
       "73            7.40E-03             ppb                          0.0074   \n",
       "\n",
       "                                       Molecule Odour Resources   N  \n",
       "72                            floral, woody lavender        NaN  36  \n",
       "73  sweet, floral; odor reminiscent of petitgrain ...       NaN  36  "
      ]
     },
     "execution_count": 110,
     "metadata": {},
     "output_type": "execute_result"
    }
   ],
   "source": [
    "#Searching for a specific molecule in the dataframe\n",
    "coleman_data[coleman_data['Molecule Name'].str.contains('lina')]"
   ]
  },
  {
   "cell_type": "markdown",
   "metadata": {},
   "source": [
    "## Cutting the Dataframe in Half"
   ]
  },
  {
   "cell_type": "code",
   "execution_count": 175,
   "metadata": {},
   "outputs": [],
   "source": [
    "def harmonic(x):\n",
    "    return np.log10(1/np.mean(1/x['Normalized Detection Threshold'].values))"
   ]
  },
  {
   "cell_type": "code",
   "execution_count": 176,
   "metadata": {},
   "outputs": [],
   "source": [
    "# This section creates a new data frame with just one odorant of each enantiomeric pair from the original dataset \n",
    "# Adds the ratio of absolute log values\n",
    "half_log_abs = coleman_data.groupby('N').apply(a.log_abs)\n",
    "half_det = coleman_data.groupby('N').apply(harmonic)\n",
    "half_coleman_data = coleman_data.iloc[::2].copy()\n",
    "half_coleman_data.loc[:, 'log_abs'] = half_log_abs.values\n",
    "half_coleman_data.loc[:, 'det'] = half_det.values"
   ]
  },
  {
   "cell_type": "code",
   "execution_count": 177,
   "metadata": {},
   "outputs": [],
   "source": [
    "# This line makes sure that the rest of the exsisting null values are equal in the new data frame and in the new data frame's 'log_abs' column\n",
    "assert half_log_abs.isnull().sum() == half_coleman_data['log_abs'].isnull().sum()"
   ]
  },
  {
   "cell_type": "code",
   "execution_count": 178,
   "metadata": {},
   "outputs": [
    {
     "data": {
      "text/html": [
       "<div>\n",
       "<style scoped>\n",
       "    .dataframe tbody tr th:only-of-type {\n",
       "        vertical-align: middle;\n",
       "    }\n",
       "\n",
       "    .dataframe tbody tr th {\n",
       "        vertical-align: top;\n",
       "    }\n",
       "\n",
       "    .dataframe thead th {\n",
       "        text-align: right;\n",
       "    }\n",
       "</style>\n",
       "<table border=\"1\" class=\"dataframe\">\n",
       "  <thead>\n",
       "    <tr style=\"text-align: right;\">\n",
       "      <th></th>\n",
       "      <th>Molecule Name</th>\n",
       "      <th>Pubchem ID #</th>\n",
       "      <th>Note</th>\n",
       "      <th>SMILES String</th>\n",
       "      <th>Detection Threshold</th>\n",
       "      <th>Detection Units</th>\n",
       "      <th>Normalized Detection Threshold</th>\n",
       "      <th>Molecule Odour</th>\n",
       "      <th>Resources</th>\n",
       "      <th>N</th>\n",
       "      <th>log_abs</th>\n",
       "      <th>det</th>\n",
       "    </tr>\n",
       "  </thead>\n",
       "  <tbody>\n",
       "    <tr>\n",
       "      <th>0</th>\n",
       "      <td>(R)-(-)-gamma-ionone</td>\n",
       "      <td>11389922</td>\n",
       "      <td>NaN</td>\n",
       "      <td>CC(=O)/C=C/[C@H]1C(=C)CCCC1(C)C</td>\n",
       "      <td>1.10E+01</td>\n",
       "      <td>ppb water</td>\n",
       "      <td>11.00</td>\n",
       "      <td>Weak green, fruity, pineapple-like odor with m...</td>\n",
       "      <td>Rows 66-100 are from here: https://www.jstage....</td>\n",
       "      <td>0</td>\n",
       "      <td>2.196295</td>\n",
       "      <td>-0.856627</td>\n",
       "    </tr>\n",
       "    <tr>\n",
       "      <th>2</th>\n",
       "      <td>(4R)-(-)-carvone</td>\n",
       "      <td>439570</td>\n",
       "      <td>NaN</td>\n",
       "      <td>CC1=CC[C@H](CC1=O)C(=C)C</td>\n",
       "      <td>2.00E+00</td>\n",
       "      <td>ppb</td>\n",
       "      <td>2.00</td>\n",
       "      <td>sweet spearmint, fresh herbal</td>\n",
       "      <td>Rows 122 - 193 are from here: https://github.c...</td>\n",
       "      <td>1</td>\n",
       "      <td>1.812913</td>\n",
       "      <td>0.595429</td>\n",
       "    </tr>\n",
       "    <tr>\n",
       "      <th>4</th>\n",
       "      <td>(4R,7R)-(+)-galaxolide</td>\n",
       "      <td>14177988</td>\n",
       "      <td>NaN</td>\n",
       "      <td>C[C@H]1COCC2=CC3=C(C=C12)C([C@H](C3(C)C)C)(C)C</td>\n",
       "      <td>4.40E-01</td>\n",
       "      <td>ppb in air</td>\n",
       "      <td>0.44</td>\n",
       "      <td>weak to almost odorless</td>\n",
       "      <td>Rows 224-267 are from here: https://github.com...</td>\n",
       "      <td>2</td>\n",
       "      <td>2.643453</td>\n",
       "      <td>-2.699956</td>\n",
       "    </tr>\n",
       "    <tr>\n",
       "      <th>6</th>\n",
       "      <td>(4R,4aS,6R)-(+) nootkatone</td>\n",
       "      <td>1268142</td>\n",
       "      <td>NaN</td>\n",
       "      <td>C[C@@H]1CC(=O)C=C2[C@]1(C[C@@H](CC2)C(=C)C)C</td>\n",
       "      <td>1.50E+01</td>\n",
       "      <td>ppm</td>\n",
       "      <td>15000.00</td>\n",
       "      <td>grapefruit odor</td>\n",
       "      <td>Rows 370-407 are from here: https://github.com...</td>\n",
       "      <td>3</td>\n",
       "      <td>3.643453</td>\n",
       "      <td>4.477023</td>\n",
       "    </tr>\n",
       "    <tr>\n",
       "      <th>8</th>\n",
       "      <td>(2S,4R)-(+) cis-2-methyl-4-propyl-1,3-oxathiane</td>\n",
       "      <td>6931728</td>\n",
       "      <td>NaN</td>\n",
       "      <td>CCC[C@@H]1CCO[C@@H](S1)C</td>\n",
       "      <td>2.00E+00</td>\n",
       "      <td>ppb</td>\n",
       "      <td>2.00</td>\n",
       "      <td>ctypical sulfurous, with a rubbery onion note;...</td>\n",
       "      <td>Rows 424-435 are from here: https://github.com...</td>\n",
       "      <td>4</td>\n",
       "      <td>0.301030</td>\n",
       "      <td>0.425969</td>\n",
       "    </tr>\n",
       "  </tbody>\n",
       "</table>\n",
       "</div>"
      ],
      "text/plain": [
       "                                     Molecule Name  Pubchem ID # Note  \\\n",
       "0                             (R)-(-)-gamma-ionone      11389922  NaN   \n",
       "2                                 (4R)-(-)-carvone        439570  NaN   \n",
       "4                           (4R,7R)-(+)-galaxolide      14177988  NaN   \n",
       "6                       (4R,4aS,6R)-(+) nootkatone       1268142  NaN   \n",
       "8  (2S,4R)-(+) cis-2-methyl-4-propyl-1,3-oxathiane       6931728  NaN   \n",
       "\n",
       "                                    SMILES String Detection Threshold  \\\n",
       "0                 CC(=O)/C=C/[C@H]1C(=C)CCCC1(C)C            1.10E+01   \n",
       "2                        CC1=CC[C@H](CC1=O)C(=C)C            2.00E+00   \n",
       "4  C[C@H]1COCC2=CC3=C(C=C12)C([C@H](C3(C)C)C)(C)C            4.40E-01   \n",
       "6    C[C@@H]1CC(=O)C=C2[C@]1(C[C@@H](CC2)C(=C)C)C            1.50E+01   \n",
       "8                        CCC[C@@H]1CCO[C@@H](S1)C            2.00E+00   \n",
       "\n",
       "  Detection Units  Normalized Detection Threshold  \\\n",
       "0       ppb water                           11.00   \n",
       "2             ppb                            2.00   \n",
       "4      ppb in air                            0.44   \n",
       "6             ppm                        15000.00   \n",
       "8             ppb                            2.00   \n",
       "\n",
       "                                      Molecule Odour  \\\n",
       "0  Weak green, fruity, pineapple-like odor with m...   \n",
       "2                      sweet spearmint, fresh herbal   \n",
       "4                            weak to almost odorless   \n",
       "6                                    grapefruit odor   \n",
       "8  ctypical sulfurous, with a rubbery onion note;...   \n",
       "\n",
       "                                           Resources  N   log_abs       det  \n",
       "0  Rows 66-100 are from here: https://www.jstage....  0  2.196295 -0.856627  \n",
       "2  Rows 122 - 193 are from here: https://github.c...  1  1.812913  0.595429  \n",
       "4  Rows 224-267 are from here: https://github.com...  2  2.643453 -2.699956  \n",
       "6  Rows 370-407 are from here: https://github.com...  3  3.643453  4.477023  \n",
       "8  Rows 424-435 are from here: https://github.com...  4  0.301030  0.425969  "
      ]
     },
     "execution_count": 178,
     "metadata": {},
     "output_type": "execute_result"
    }
   ],
   "source": [
    "# This line checks that the half dataset was created properly\n",
    "half_coleman_data.head()"
   ]
  },
  {
   "cell_type": "code",
   "execution_count": 179,
   "metadata": {},
   "outputs": [],
   "source": [
    "# This section gets rid of all the invalid SMILES Strings, specifically the duplicates because we don't want to count their perceptual features twice and the \"nan\" values \n",
    "half_coleman_data = half_coleman_data.drop_duplicates(subset=['SMILES String'])\n",
    "half_coleman_data = half_coleman_data[~half_coleman_data['SMILES String'].str.contains('NaN', na=True)]\n",
    "half_coleman_data = half_coleman_data[~half_coleman_data['SMILES String'].str.contains('nan', na=True)]"
   ]
  },
  {
   "cell_type": "code",
   "execution_count": 182,
   "metadata": {},
   "outputs": [],
   "source": [
    "# These two assert statements are to ensure that we only have unqiue smiles strings and that no smiles strings are nan values\n",
    "assert half_coleman_data['SMILES String'].shape == half_coleman_data['SMILES String'].unique().shape, \"Number of SMILES strings should equal number of unique SMILES strings at this stage\""
   ]
  },
  {
   "cell_type": "code",
   "execution_count": 183,
   "metadata": {},
   "outputs": [],
   "source": [
    "# This line makes sure that are no more nan values in the smiles string column\n",
    "assert sum(half_coleman_data['SMILES String']=='nan') == 0, \"There should be no NaN SMILES strings at this point\""
   ]
  },
  {
   "cell_type": "code",
   "execution_count": 184,
   "metadata": {},
   "outputs": [],
   "source": [
    "#This line gets rid of the rows with a null log_abs value\n",
    "half_coleman_data = half_coleman_data[~half_coleman_data['log_abs'].isnull()]"
   ]
  },
  {
   "cell_type": "code",
   "execution_count": 185,
   "metadata": {},
   "outputs": [],
   "source": [
    "#This line makes sure there are no more log_abs values with the value null\n",
    "assert not sum(half_coleman_data['log_abs'].isnull())\n",
    "assert not sum(half_coleman_data['det'].isnull())"
   ]
  },
  {
   "cell_type": "markdown",
   "metadata": {},
   "source": [
    "## Google Model Embeddings"
   ]
  },
  {
   "cell_type": "code",
   "execution_count": 168,
   "metadata": {},
   "outputs": [],
   "source": [
    "#Loads in embeddings from google model to use as features\n",
    "gme = np.load('enantiomer-embeddings-for-rick.npz', allow_pickle=True) # Load the file\n",
    "gme = gme['embeddings'].item() # Extract the data\n",
    "gme = {k: v.squeeze() for k, v in gme.items()} # Flatten the arrays\n",
    "gme_df = pd.DataFrame(gme).T  # Turn into a dataframe"
   ]
  },
  {
   "cell_type": "code",
   "execution_count": 162,
   "metadata": {},
   "outputs": [
    {
     "data": {
      "text/html": [
       "<div>\n",
       "<style scoped>\n",
       "    .dataframe tbody tr th:only-of-type {\n",
       "        vertical-align: middle;\n",
       "    }\n",
       "\n",
       "    .dataframe tbody tr th {\n",
       "        vertical-align: top;\n",
       "    }\n",
       "\n",
       "    .dataframe thead th {\n",
       "        text-align: right;\n",
       "    }\n",
       "</style>\n",
       "<table border=\"1\" class=\"dataframe\">\n",
       "  <thead>\n",
       "    <tr style=\"text-align: right;\">\n",
       "      <th></th>\n",
       "      <th>0</th>\n",
       "      <th>1</th>\n",
       "      <th>2</th>\n",
       "      <th>3</th>\n",
       "      <th>4</th>\n",
       "      <th>5</th>\n",
       "      <th>6</th>\n",
       "      <th>7</th>\n",
       "      <th>8</th>\n",
       "      <th>9</th>\n",
       "      <th>...</th>\n",
       "      <th>246</th>\n",
       "      <th>247</th>\n",
       "      <th>248</th>\n",
       "      <th>249</th>\n",
       "      <th>250</th>\n",
       "      <th>251</th>\n",
       "      <th>252</th>\n",
       "      <th>253</th>\n",
       "      <th>254</th>\n",
       "      <th>255</th>\n",
       "    </tr>\n",
       "  </thead>\n",
       "  <tbody>\n",
       "    <tr>\n",
       "      <th>CC1(C)[C@H]2CC[C@H](CO)[C@@H]1C2</th>\n",
       "      <td>3.361583</td>\n",
       "      <td>0.382813</td>\n",
       "      <td>0.000000</td>\n",
       "      <td>0.000000</td>\n",
       "      <td>2.153011</td>\n",
       "      <td>1.410133</td>\n",
       "      <td>2.376704</td>\n",
       "      <td>0.0</td>\n",
       "      <td>0.765796</td>\n",
       "      <td>0.000000</td>\n",
       "      <td>...</td>\n",
       "      <td>0.000000</td>\n",
       "      <td>0.331122</td>\n",
       "      <td>0.251479</td>\n",
       "      <td>0.697581</td>\n",
       "      <td>0.569553</td>\n",
       "      <td>0.785193</td>\n",
       "      <td>0.000000</td>\n",
       "      <td>3.134834</td>\n",
       "      <td>3.344208</td>\n",
       "      <td>0.000000</td>\n",
       "    </tr>\n",
       "    <tr>\n",
       "      <th>CCCC[C@H](C(C)C)[C@H](O)CC</th>\n",
       "      <td>1.591573</td>\n",
       "      <td>0.000000</td>\n",
       "      <td>0.428940</td>\n",
       "      <td>1.412535</td>\n",
       "      <td>0.304237</td>\n",
       "      <td>4.056973</td>\n",
       "      <td>2.067844</td>\n",
       "      <td>0.0</td>\n",
       "      <td>0.000000</td>\n",
       "      <td>0.145670</td>\n",
       "      <td>...</td>\n",
       "      <td>0.000000</td>\n",
       "      <td>0.000000</td>\n",
       "      <td>0.000000</td>\n",
       "      <td>0.664556</td>\n",
       "      <td>1.274769</td>\n",
       "      <td>0.000000</td>\n",
       "      <td>0.200347</td>\n",
       "      <td>2.116929</td>\n",
       "      <td>0.000000</td>\n",
       "      <td>0.557281</td>\n",
       "    </tr>\n",
       "    <tr>\n",
       "      <th>CCCCCCCC[C@@H](C)O</th>\n",
       "      <td>0.222926</td>\n",
       "      <td>0.000000</td>\n",
       "      <td>0.223172</td>\n",
       "      <td>0.000000</td>\n",
       "      <td>0.000000</td>\n",
       "      <td>5.710248</td>\n",
       "      <td>2.740240</td>\n",
       "      <td>0.0</td>\n",
       "      <td>1.230071</td>\n",
       "      <td>0.000000</td>\n",
       "      <td>...</td>\n",
       "      <td>0.801922</td>\n",
       "      <td>0.000000</td>\n",
       "      <td>0.000000</td>\n",
       "      <td>0.000000</td>\n",
       "      <td>0.000000</td>\n",
       "      <td>0.000000</td>\n",
       "      <td>0.000000</td>\n",
       "      <td>1.291554</td>\n",
       "      <td>0.525811</td>\n",
       "      <td>2.257053</td>\n",
       "    </tr>\n",
       "    <tr>\n",
       "      <th>CC1(C)[C@H]2CC[C@](C)(C2)[C@H]1O</th>\n",
       "      <td>2.282184</td>\n",
       "      <td>0.912073</td>\n",
       "      <td>0.000000</td>\n",
       "      <td>0.000000</td>\n",
       "      <td>2.890187</td>\n",
       "      <td>0.176412</td>\n",
       "      <td>2.256818</td>\n",
       "      <td>0.0</td>\n",
       "      <td>0.569661</td>\n",
       "      <td>0.000000</td>\n",
       "      <td>...</td>\n",
       "      <td>0.101928</td>\n",
       "      <td>0.000000</td>\n",
       "      <td>0.340307</td>\n",
       "      <td>1.982442</td>\n",
       "      <td>0.941730</td>\n",
       "      <td>0.164528</td>\n",
       "      <td>0.000000</td>\n",
       "      <td>3.065782</td>\n",
       "      <td>2.076539</td>\n",
       "      <td>0.000000</td>\n",
       "    </tr>\n",
       "    <tr>\n",
       "      <th>C=C1CC[C@@H](C)C(C)(C)[C@@H]1/C=C/C(C)=O</th>\n",
       "      <td>3.561810</td>\n",
       "      <td>0.000000</td>\n",
       "      <td>0.271860</td>\n",
       "      <td>3.111673</td>\n",
       "      <td>0.000000</td>\n",
       "      <td>0.742194</td>\n",
       "      <td>2.071393</td>\n",
       "      <td>0.0</td>\n",
       "      <td>0.000000</td>\n",
       "      <td>0.158586</td>\n",
       "      <td>...</td>\n",
       "      <td>0.771586</td>\n",
       "      <td>0.000000</td>\n",
       "      <td>0.000000</td>\n",
       "      <td>0.382187</td>\n",
       "      <td>0.000000</td>\n",
       "      <td>1.091824</td>\n",
       "      <td>1.321833</td>\n",
       "      <td>0.000000</td>\n",
       "      <td>0.289515</td>\n",
       "      <td>0.716665</td>\n",
       "    </tr>\n",
       "  </tbody>\n",
       "</table>\n",
       "<p>5 rows × 256 columns</p>\n",
       "</div>"
      ],
      "text/plain": [
       "                                               0         1         2    \\\n",
       "CC1(C)[C@H]2CC[C@H](CO)[C@@H]1C2          3.361583  0.382813  0.000000   \n",
       "CCCC[C@H](C(C)C)[C@H](O)CC                1.591573  0.000000  0.428940   \n",
       "CCCCCCCC[C@@H](C)O                        0.222926  0.000000  0.223172   \n",
       "CC1(C)[C@H]2CC[C@](C)(C2)[C@H]1O          2.282184  0.912073  0.000000   \n",
       "C=C1CC[C@@H](C)C(C)(C)[C@@H]1/C=C/C(C)=O  3.561810  0.000000  0.271860   \n",
       "\n",
       "                                               3         4         5    \\\n",
       "CC1(C)[C@H]2CC[C@H](CO)[C@@H]1C2          0.000000  2.153011  1.410133   \n",
       "CCCC[C@H](C(C)C)[C@H](O)CC                1.412535  0.304237  4.056973   \n",
       "CCCCCCCC[C@@H](C)O                        0.000000  0.000000  5.710248   \n",
       "CC1(C)[C@H]2CC[C@](C)(C2)[C@H]1O          0.000000  2.890187  0.176412   \n",
       "C=C1CC[C@@H](C)C(C)(C)[C@@H]1/C=C/C(C)=O  3.111673  0.000000  0.742194   \n",
       "\n",
       "                                               6    7         8         9    \\\n",
       "CC1(C)[C@H]2CC[C@H](CO)[C@@H]1C2          2.376704  0.0  0.765796  0.000000   \n",
       "CCCC[C@H](C(C)C)[C@H](O)CC                2.067844  0.0  0.000000  0.145670   \n",
       "CCCCCCCC[C@@H](C)O                        2.740240  0.0  1.230071  0.000000   \n",
       "CC1(C)[C@H]2CC[C@](C)(C2)[C@H]1O          2.256818  0.0  0.569661  0.000000   \n",
       "C=C1CC[C@@H](C)C(C)(C)[C@@H]1/C=C/C(C)=O  2.071393  0.0  0.000000  0.158586   \n",
       "\n",
       "                                          ...       246       247       248  \\\n",
       "CC1(C)[C@H]2CC[C@H](CO)[C@@H]1C2          ...  0.000000  0.331122  0.251479   \n",
       "CCCC[C@H](C(C)C)[C@H](O)CC                ...  0.000000  0.000000  0.000000   \n",
       "CCCCCCCC[C@@H](C)O                        ...  0.801922  0.000000  0.000000   \n",
       "CC1(C)[C@H]2CC[C@](C)(C2)[C@H]1O          ...  0.101928  0.000000  0.340307   \n",
       "C=C1CC[C@@H](C)C(C)(C)[C@@H]1/C=C/C(C)=O  ...  0.771586  0.000000  0.000000   \n",
       "\n",
       "                                               249       250       251  \\\n",
       "CC1(C)[C@H]2CC[C@H](CO)[C@@H]1C2          0.697581  0.569553  0.785193   \n",
       "CCCC[C@H](C(C)C)[C@H](O)CC                0.664556  1.274769  0.000000   \n",
       "CCCCCCCC[C@@H](C)O                        0.000000  0.000000  0.000000   \n",
       "CC1(C)[C@H]2CC[C@](C)(C2)[C@H]1O          1.982442  0.941730  0.164528   \n",
       "C=C1CC[C@@H](C)C(C)(C)[C@@H]1/C=C/C(C)=O  0.382187  0.000000  1.091824   \n",
       "\n",
       "                                               252       253       254  \\\n",
       "CC1(C)[C@H]2CC[C@H](CO)[C@@H]1C2          0.000000  3.134834  3.344208   \n",
       "CCCC[C@H](C(C)C)[C@H](O)CC                0.200347  2.116929  0.000000   \n",
       "CCCCCCCC[C@@H](C)O                        0.000000  1.291554  0.525811   \n",
       "CC1(C)[C@H]2CC[C@](C)(C2)[C@H]1O          0.000000  3.065782  2.076539   \n",
       "C=C1CC[C@@H](C)C(C)(C)[C@@H]1/C=C/C(C)=O  1.321833  0.000000  0.289515   \n",
       "\n",
       "                                               255  \n",
       "CC1(C)[C@H]2CC[C@H](CO)[C@@H]1C2          0.000000  \n",
       "CCCC[C@H](C(C)C)[C@H](O)CC                0.557281  \n",
       "CCCCCCCC[C@@H](C)O                        2.257053  \n",
       "CC1(C)[C@H]2CC[C@](C)(C2)[C@H]1O          0.000000  \n",
       "C=C1CC[C@@H](C)C(C)(C)[C@@H]1/C=C/C(C)=O  0.716665  \n",
       "\n",
       "[5 rows x 256 columns]"
      ]
     },
     "execution_count": 162,
     "metadata": {},
     "output_type": "execute_result"
    }
   ],
   "source": [
    "gme_df.head()"
   ]
  },
  {
   "cell_type": "code",
   "execution_count": 199,
   "metadata": {},
   "outputs": [],
   "source": [
    "#Making a copy of half coleman data and setting the index to match that of the gme model\n",
    "half_coleman_data_copy = half_coleman_data\n",
    "half_coleman_data_copy = half_coleman_data_copy.set_index(\"SMILES String\")"
   ]
  },
  {
   "cell_type": "code",
   "execution_count": 200,
   "metadata": {},
   "outputs": [],
   "source": [
    "#Only keep the columns in the gme df that match the column names in half_coleman_data\n",
    "common_index = half_coleman_data_copy.index.intersection(gme_df.index)\n",
    "half_coleman_data_copy = half_coleman_data_copy.loc[common_index]\n",
    "gme_df = gme_df.loc[common_index]"
   ]
  },
  {
   "cell_type": "code",
   "execution_count": 193,
   "metadata": {},
   "outputs": [],
   "source": [
    "#combining half_coleman_data df with gme df\n",
    "g_model_embeddings = half_coleman_data_copy.join(gme_df, how=\"inner\")\n"
   ]
  },
  {
   "cell_type": "code",
   "execution_count": 202,
   "metadata": {},
   "outputs": [],
   "source": [
    "#Resetting the index to be \"Moecule Name\"\n",
    "g_model_embeddings = g_model_embeddings.set_index(\"Molecule Name\")"
   ]
  },
  {
   "cell_type": "code",
   "execution_count": 206,
   "metadata": {},
   "outputs": [],
   "source": [
    "assert ((g_model_embeddings.iloc[:,11:].var() <= 0).sum() == 0), \"This should be 0 if not, get rid of columns with 0 varience\""
   ]
  },
  {
   "cell_type": "markdown",
   "metadata": {},
   "source": [
    "## Computing the Features"
   ]
  },
  {
   "cell_type": "code",
   "execution_count": 186,
   "metadata": {},
   "outputs": [
    {
     "name": "stdout",
     "output_type": "stream",
     "text": [
      "Convering SMILES string to Mol format...\n",
      "Computing 3D coordinates...\n",
      "Removing CC[C@](CCC1=COC=C1)([C@]2(CCCC([C@@H]2CCO)(C)C)C)O due to failed embedding\n",
      "Removing CCCC(CC(C)O)SC(=O)C due to failed embedding\n",
      "Removing CC[C@@H](C)[C@@H](C(=O)O[C@@H]([C@@H](C)CC)C(=O)O[C@@H]([C@@H](C)CC)C(=O)O[C@@H]([C@@H](C)CC)C(=O)OC[C@@H]([C@@H]([C@@H]([C@@H](CO)O)O)O)O)O due to failed embedding\n",
      "Removing CC[C@@H](C)[C@H](C(=O)O[C@H]1[C@@H](C(C(=C)[C@@]2([C@@]1([C@H](CC2=O)C3=COC=C3)C)O)[C@@]4([C@H](CC(=O)O[C@]([C@@H]4CC(=O)OC)(C)COC(=O)C)OC(=O)C)C)OC=O)O due to failed embedding\n",
      "Computing Mordred features...\n"
     ]
    },
    {
     "name": "stderr",
     "output_type": "stream",
     "text": [
      " 85%|████████▍ | 145/171 [00:07<00:01, 16.04it/s]"
     ]
    },
    {
     "name": "stdout",
     "output_type": "stream",
     "text": [
      "C:\\Users\\Owner\\Anaconda3\\lib\\site-packages\\numpy\\core\\fromnumeric.py:90: RuntimeWarning: overflow encountered in reduce\n",
      "  return ufunc.reduce(obj, axis, dtype, out, **passkwargs)\n"
     ]
    },
    {
     "name": "stderr",
     "output_type": "stream",
     "text": [
      "100%|██████████| 171/171 [00:08<00:00, 20.20it/s]\n"
     ]
    },
    {
     "name": "stdout",
     "output_type": "stream",
     "text": [
      "There are 171 molecules and 1826 features\n",
      "175 similarity features for 9764 molecules\n"
     ]
    }
   ],
   "source": [
    "# These lines calculate the mordred and morgan features\n",
    "mordred_data = a.calculate_features(half_coleman_data, \"mordred\")\n",
    "morgan_data = a.calculate_features(half_coleman_data, \"morgan\")"
   ]
  },
  {
   "cell_type": "code",
   "execution_count": 187,
   "metadata": {},
   "outputs": [],
   "source": [
    "#zero_var_cols = [mordred_data[col] for col in mordred_data.iloc[:,11:] if (mordred_data[col].var() > 0) == True]\n",
    "#mordred_data.drop(columns)"
   ]
  },
  {
   "cell_type": "code",
   "execution_count": 188,
   "metadata": {},
   "outputs": [],
   "source": [
    "#These lines make sure that we only use the molecules that have mordred and morgan features computed\n",
    "common_index = mordred_data.index.intersection(morgan_data.index)\n",
    "mordred_data = mordred_data.loc[common_index]\n",
    "morgan_data = morgan_data.loc[common_index]"
   ]
  },
  {
   "cell_type": "code",
   "execution_count": 190,
   "metadata": {},
   "outputs": [],
   "source": [
    "#mordred_data"
   ]
  },
  {
   "cell_type": "code",
   "execution_count": 18,
   "metadata": {},
   "outputs": [
    {
     "data": {
      "text/html": [
       "<div>\n",
       "<style scoped>\n",
       "    .dataframe tbody tr th:only-of-type {\n",
       "        vertical-align: middle;\n",
       "    }\n",
       "\n",
       "    .dataframe tbody tr th {\n",
       "        vertical-align: top;\n",
       "    }\n",
       "\n",
       "    .dataframe thead th {\n",
       "        text-align: right;\n",
       "    }\n",
       "</style>\n",
       "<table border=\"1\" class=\"dataframe\">\n",
       "  <thead>\n",
       "    <tr style=\"text-align: right;\">\n",
       "      <th></th>\n",
       "      <th>ABC</th>\n",
       "      <th>ABCGG</th>\n",
       "      <th>nAcid</th>\n",
       "      <th>nBase</th>\n",
       "      <th>SpAbs_A</th>\n",
       "      <th>SpMax_A</th>\n",
       "      <th>SpDiam_A</th>\n",
       "      <th>SpAD_A</th>\n",
       "      <th>SpMAD_A</th>\n",
       "      <th>LogEE_A</th>\n",
       "      <th>...</th>\n",
       "      <th>SRW10</th>\n",
       "      <th>TSRW10</th>\n",
       "      <th>MW</th>\n",
       "      <th>AMW</th>\n",
       "      <th>WPath</th>\n",
       "      <th>WPol</th>\n",
       "      <th>Zagreb1</th>\n",
       "      <th>Zagreb2</th>\n",
       "      <th>mZagreb1</th>\n",
       "      <th>mZagreb2</th>\n",
       "    </tr>\n",
       "    <tr>\n",
       "      <th>Molecule Name</th>\n",
       "      <th></th>\n",
       "      <th></th>\n",
       "      <th></th>\n",
       "      <th></th>\n",
       "      <th></th>\n",
       "      <th></th>\n",
       "      <th></th>\n",
       "      <th></th>\n",
       "      <th></th>\n",
       "      <th></th>\n",
       "      <th></th>\n",
       "      <th></th>\n",
       "      <th></th>\n",
       "      <th></th>\n",
       "      <th></th>\n",
       "      <th></th>\n",
       "      <th></th>\n",
       "      <th></th>\n",
       "      <th></th>\n",
       "      <th></th>\n",
       "      <th></th>\n",
       "    </tr>\n",
       "  </thead>\n",
       "  <tbody>\n",
       "    <tr>\n",
       "      <th>(R)-(-)-gamma-ionone</th>\n",
       "      <td>10.4435</td>\n",
       "      <td>9.80527</td>\n",
       "      <td>0</td>\n",
       "      <td>0</td>\n",
       "      <td>15.8774</td>\n",
       "      <td>2.39041</td>\n",
       "      <td>4.78082</td>\n",
       "      <td>15.8774</td>\n",
       "      <td>1.1341</td>\n",
       "      <td>3.53383</td>\n",
       "      <td>...</td>\n",
       "      <td>9.50144</td>\n",
       "      <td>45.5963</td>\n",
       "      <td>192.151</td>\n",
       "      <td>5.65151</td>\n",
       "      <td>301</td>\n",
       "      <td>19</td>\n",
       "      <td>68</td>\n",
       "      <td>76</td>\n",
       "      <td>6.64583</td>\n",
       "      <td>3.06944</td>\n",
       "    </tr>\n",
       "    <tr>\n",
       "      <th>(4R)-(-)-carvone</th>\n",
       "      <td>8.13485</td>\n",
       "      <td>7.73189</td>\n",
       "      <td>0</td>\n",
       "      <td>0</td>\n",
       "      <td>13.1525</td>\n",
       "      <td>2.29246</td>\n",
       "      <td>4.58491</td>\n",
       "      <td>13.1525</td>\n",
       "      <td>1.19569</td>\n",
       "      <td>3.29465</td>\n",
       "      <td>...</td>\n",
       "      <td>9.07142</td>\n",
       "      <td>40.9913</td>\n",
       "      <td>150.104</td>\n",
       "      <td>6.00418</td>\n",
       "      <td>152</td>\n",
       "      <td>14</td>\n",
       "      <td>52</td>\n",
       "      <td>58</td>\n",
       "      <td>5.19444</td>\n",
       "      <td>2.47222</td>\n",
       "    </tr>\n",
       "    <tr>\n",
       "      <th>(4R,7R)-(+)-galaxolide</th>\n",
       "      <td>15.3359</td>\n",
       "      <td>13.263</td>\n",
       "      <td>0</td>\n",
       "      <td>0</td>\n",
       "      <td>23.6131</td>\n",
       "      <td>2.62384</td>\n",
       "      <td>5.07363</td>\n",
       "      <td>23.6131</td>\n",
       "      <td>1.24279</td>\n",
       "      <td>3.91551</td>\n",
       "      <td>...</td>\n",
       "      <td>10.3832</td>\n",
       "      <td>68.8592</td>\n",
       "      <td>258.198</td>\n",
       "      <td>5.73774</td>\n",
       "      <td>595</td>\n",
       "      <td>39</td>\n",
       "      <td>112</td>\n",
       "      <td>141</td>\n",
       "      <td>8.04167</td>\n",
       "      <td>3.83333</td>\n",
       "    </tr>\n",
       "    <tr>\n",
       "      <th>(4R,4aS,6R)-(+) nootkatone</th>\n",
       "      <td>12.4536</td>\n",
       "      <td>10.9001</td>\n",
       "      <td>0</td>\n",
       "      <td>0</td>\n",
       "      <td>19.4752</td>\n",
       "      <td>2.49987</td>\n",
       "      <td>4.99975</td>\n",
       "      <td>19.4752</td>\n",
       "      <td>1.2172</td>\n",
       "      <td>3.70858</td>\n",
       "      <td>...</td>\n",
       "      <td>9.97883</td>\n",
       "      <td>49.2196</td>\n",
       "      <td>218.167</td>\n",
       "      <td>5.74124</td>\n",
       "      <td>397</td>\n",
       "      <td>28</td>\n",
       "      <td>86</td>\n",
       "      <td>103</td>\n",
       "      <td>6.86806</td>\n",
       "      <td>3.40278</td>\n",
       "    </tr>\n",
       "    <tr>\n",
       "      <th>(2S,4R)-(+) cis-2-methyl-4-propyl-1,3-oxathiane</th>\n",
       "      <td>7.18046</td>\n",
       "      <td>6.75377</td>\n",
       "      <td>0</td>\n",
       "      <td>0</td>\n",
       "      <td>12.0984</td>\n",
       "      <td>2.20893</td>\n",
       "      <td>4.41787</td>\n",
       "      <td>12.0984</td>\n",
       "      <td>1.20984</td>\n",
       "      <td>3.1885</td>\n",
       "      <td>...</td>\n",
       "      <td>8.66751</td>\n",
       "      <td>38.7042</td>\n",
       "      <td>160.092</td>\n",
       "      <td>6.15739</td>\n",
       "      <td>124</td>\n",
       "      <td>10</td>\n",
       "      <td>44</td>\n",
       "      <td>47</td>\n",
       "      <td>3.72222</td>\n",
       "      <td>2.41667</td>\n",
       "    </tr>\n",
       "  </tbody>\n",
       "</table>\n",
       "<p>5 rows × 1826 columns</p>\n",
       "</div>"
      ],
      "text/plain": [
       "                                                     ABC    ABCGG nAcid nBase  \\\n",
       "Molecule Name                                                                   \n",
       "(R)-(-)-gamma-ionone                             10.4435  9.80527     0     0   \n",
       "(4R)-(-)-carvone                                 8.13485  7.73189     0     0   \n",
       "(4R,7R)-(+)-galaxolide                           15.3359   13.263     0     0   \n",
       "(4R,4aS,6R)-(+) nootkatone                       12.4536  10.9001     0     0   \n",
       "(2S,4R)-(+) cis-2-methyl-4-propyl-1,3-oxathiane  7.18046  6.75377     0     0   \n",
       "\n",
       "                                                 SpAbs_A  SpMax_A SpDiam_A  \\\n",
       "Molecule Name                                                                \n",
       "(R)-(-)-gamma-ionone                             15.8774  2.39041  4.78082   \n",
       "(4R)-(-)-carvone                                 13.1525  2.29246  4.58491   \n",
       "(4R,7R)-(+)-galaxolide                           23.6131  2.62384  5.07363   \n",
       "(4R,4aS,6R)-(+) nootkatone                       19.4752  2.49987  4.99975   \n",
       "(2S,4R)-(+) cis-2-methyl-4-propyl-1,3-oxathiane  12.0984  2.20893  4.41787   \n",
       "\n",
       "                                                  SpAD_A  SpMAD_A  LogEE_A  \\\n",
       "Molecule Name                                                                \n",
       "(R)-(-)-gamma-ionone                             15.8774   1.1341  3.53383   \n",
       "(4R)-(-)-carvone                                 13.1525  1.19569  3.29465   \n",
       "(4R,7R)-(+)-galaxolide                           23.6131  1.24279  3.91551   \n",
       "(4R,4aS,6R)-(+) nootkatone                       19.4752   1.2172  3.70858   \n",
       "(2S,4R)-(+) cis-2-methyl-4-propyl-1,3-oxathiane  12.0984  1.20984   3.1885   \n",
       "\n",
       "                                                 ...    SRW10   TSRW10  \\\n",
       "Molecule Name                                    ...                     \n",
       "(R)-(-)-gamma-ionone                             ...  9.50144  45.5963   \n",
       "(4R)-(-)-carvone                                 ...  9.07142  40.9913   \n",
       "(4R,7R)-(+)-galaxolide                           ...  10.3832  68.8592   \n",
       "(4R,4aS,6R)-(+) nootkatone                       ...  9.97883  49.2196   \n",
       "(2S,4R)-(+) cis-2-methyl-4-propyl-1,3-oxathiane  ...  8.66751  38.7042   \n",
       "\n",
       "                                                      MW      AMW WPath WPol  \\\n",
       "Molecule Name                                                                  \n",
       "(R)-(-)-gamma-ionone                             192.151  5.65151   301   19   \n",
       "(4R)-(-)-carvone                                 150.104  6.00418   152   14   \n",
       "(4R,7R)-(+)-galaxolide                           258.198  5.73774   595   39   \n",
       "(4R,4aS,6R)-(+) nootkatone                       218.167  5.74124   397   28   \n",
       "(2S,4R)-(+) cis-2-methyl-4-propyl-1,3-oxathiane  160.092  6.15739   124   10   \n",
       "\n",
       "                                                Zagreb1 Zagreb2 mZagreb1  \\\n",
       "Molecule Name                                                              \n",
       "(R)-(-)-gamma-ionone                                 68      76  6.64583   \n",
       "(4R)-(-)-carvone                                     52      58  5.19444   \n",
       "(4R,7R)-(+)-galaxolide                              112     141  8.04167   \n",
       "(4R,4aS,6R)-(+) nootkatone                           86     103  6.86806   \n",
       "(2S,4R)-(+) cis-2-methyl-4-propyl-1,3-oxathiane      44      47  3.72222   \n",
       "\n",
       "                                                mZagreb2  \n",
       "Molecule Name                                             \n",
       "(R)-(-)-gamma-ionone                             3.06944  \n",
       "(4R)-(-)-carvone                                 2.47222  \n",
       "(4R,7R)-(+)-galaxolide                           3.83333  \n",
       "(4R,4aS,6R)-(+) nootkatone                       3.40278  \n",
       "(2S,4R)-(+) cis-2-methyl-4-propyl-1,3-oxathiane  2.41667  \n",
       "\n",
       "[5 rows x 1826 columns]"
      ]
     },
     "execution_count": 18,
     "metadata": {},
     "output_type": "execute_result"
    }
   ],
   "source": [
    "mordred_data.set_index('Molecule Name').head().iloc[:, 10:]"
   ]
  },
  {
   "cell_type": "code",
   "execution_count": 19,
   "metadata": {},
   "outputs": [
    {
     "data": {
      "text/html": [
       "<div>\n",
       "<style scoped>\n",
       "    .dataframe tbody tr th:only-of-type {\n",
       "        vertical-align: middle;\n",
       "    }\n",
       "\n",
       "    .dataframe tbody tr th {\n",
       "        vertical-align: top;\n",
       "    }\n",
       "\n",
       "    .dataframe thead th {\n",
       "        text-align: right;\n",
       "    }\n",
       "</style>\n",
       "<table border=\"1\" class=\"dataframe\">\n",
       "  <thead>\n",
       "    <tr style=\"text-align: right;\">\n",
       "      <th></th>\n",
       "      <th>CC(CN)O</th>\n",
       "      <th>C(CCl)Cl</th>\n",
       "      <th>CCC(C)C(=O)C(=O)O</th>\n",
       "      <th>CC(C)C(=O)C(=O)O</th>\n",
       "      <th>C(CC(=O)O)C(=O)C(=O)O</th>\n",
       "      <th>CCC(=O)C(=O)O</th>\n",
       "      <th>CC(C)CC(=O)C(=O)O</th>\n",
       "      <th>C1=CC(=C(C=C1C(=O)O)O)O</th>\n",
       "      <th>C(C(=O)C(=O)O)S</th>\n",
       "      <th>C1=CC(=CC(=C1)O)C=O</th>\n",
       "      <th>...</th>\n",
       "      <th>CC(=O)O.C1=CC=C2C(=C1)C(=CC3=C2N=C4C=CC(=N)C=C4O3)N</th>\n",
       "      <th>CCC(C)N1CCC2(CC1)NC3=C4C5=C(C(=NC(=O)/C(=C/C=C/[C@@H]([C@@H]([C@H]([C@H]([C@H]([C@@H]([C@@H]([C@H](/C=C/O[C@@]6(C(=O)C4=C(O6)C(=C5O)C)C)OC)C)OC(=O)C)C)O)C)O)C)/C)C3=N2)O</th>\n",
       "      <th>C[C@H]1/C=C/C=C(\\C(=O)NC2=C(C(=C3C(=C2O)C(=C(C4=C3C(=O)[C@](O4)(O/C=C/[C@@H]([C@H]([C@H]([C@@H]([C@@H]([C@@H]([C@H]1O)C)O)C)OC(=O)C)C)OC)C)C)O)O)/C=N\\N5CCN(CC5)C)/C</th>\n",
       "      <th>C[C@H]1/C=C/C=C(\\C(=O)NC2=C(C(=C3C(=C2O)C(=C(C4=C3C(=O)[C@](O4)(O/C=C/[C@@H]([C@H]([C@H]([C@@H]([C@@H]([C@@H]([C@H]1O)C)O)C)OC(=O)C)C)OC)C)C)O)O)/C=N\\N5CCN(CC5)C6CCCC6)/C</th>\n",
       "      <th>COC1=CC(=CC(=C1O)OC)/C=N\\N=C/C2=CC(=C(C(=C2)OC)O)OC</th>\n",
       "      <th>C[N+]1=CC=CC=C1/C=N\\O.[Cl-]</th>\n",
       "      <th>COC(=O)N/N=C\\C1=[N+](C2=CC=CC=C2[N+](=C1)[O-])[O-]</th>\n",
       "      <th>C1=CC(=C(C(=C1)Cl)CC(=O)NC(=N)N)Cl.Cl</th>\n",
       "      <th>C1(=C(N=C(C(=N1)Cl)N)N)C(=O)NC(=N)N.O.O.Cl</th>\n",
       "      <th>CCCCCCCOC1=C(C=C(C=C1)CC=C)OC</th>\n",
       "    </tr>\n",
       "    <tr>\n",
       "      <th>Molecule Name</th>\n",
       "      <th></th>\n",
       "      <th></th>\n",
       "      <th></th>\n",
       "      <th></th>\n",
       "      <th></th>\n",
       "      <th></th>\n",
       "      <th></th>\n",
       "      <th></th>\n",
       "      <th></th>\n",
       "      <th></th>\n",
       "      <th></th>\n",
       "      <th></th>\n",
       "      <th></th>\n",
       "      <th></th>\n",
       "      <th></th>\n",
       "      <th></th>\n",
       "      <th></th>\n",
       "      <th></th>\n",
       "      <th></th>\n",
       "      <th></th>\n",
       "      <th></th>\n",
       "    </tr>\n",
       "  </thead>\n",
       "  <tbody>\n",
       "    <tr>\n",
       "      <th>(R)-(-)-gamma-ionone</th>\n",
       "      <td>0.035088</td>\n",
       "      <td>0.000000</td>\n",
       "      <td>0.144928</td>\n",
       "      <td>0.153846</td>\n",
       "      <td>0.081081</td>\n",
       "      <td>0.126984</td>\n",
       "      <td>0.144928</td>\n",
       "      <td>0.100000</td>\n",
       "      <td>0.095238</td>\n",
       "      <td>0.080000</td>\n",
       "      <td>...</td>\n",
       "      <td>0.082192</td>\n",
       "      <td>0.093750</td>\n",
       "      <td>0.097087</td>\n",
       "      <td>0.096677</td>\n",
       "      <td>0.076923</td>\n",
       "      <td>0.074074</td>\n",
       "      <td>0.096774</td>\n",
       "      <td>0.080808</td>\n",
       "      <td>0.080808</td>\n",
       "      <td>0.076923</td>\n",
       "    </tr>\n",
       "    <tr>\n",
       "      <th>(4R)-(-)-carvone</th>\n",
       "      <td>0.044444</td>\n",
       "      <td>0.000000</td>\n",
       "      <td>0.140351</td>\n",
       "      <td>0.150943</td>\n",
       "      <td>0.064516</td>\n",
       "      <td>0.117647</td>\n",
       "      <td>0.140351</td>\n",
       "      <td>0.147059</td>\n",
       "      <td>0.078431</td>\n",
       "      <td>0.126984</td>\n",
       "      <td>...</td>\n",
       "      <td>0.104478</td>\n",
       "      <td>0.090909</td>\n",
       "      <td>0.094276</td>\n",
       "      <td>0.087774</td>\n",
       "      <td>0.069444</td>\n",
       "      <td>0.086957</td>\n",
       "      <td>0.107143</td>\n",
       "      <td>0.114943</td>\n",
       "      <td>0.091954</td>\n",
       "      <td>0.101695</td>\n",
       "    </tr>\n",
       "    <tr>\n",
       "      <th>(4R,7R)-(+)-galaxolide</th>\n",
       "      <td>0.024096</td>\n",
       "      <td>0.000000</td>\n",
       "      <td>0.042105</td>\n",
       "      <td>0.043956</td>\n",
       "      <td>0.000000</td>\n",
       "      <td>0.022472</td>\n",
       "      <td>0.042105</td>\n",
       "      <td>0.113208</td>\n",
       "      <td>0.000000</td>\n",
       "      <td>0.099010</td>\n",
       "      <td>...</td>\n",
       "      <td>0.116279</td>\n",
       "      <td>0.127168</td>\n",
       "      <td>0.125373</td>\n",
       "      <td>0.117647</td>\n",
       "      <td>0.131868</td>\n",
       "      <td>0.074766</td>\n",
       "      <td>0.080000</td>\n",
       "      <td>0.080000</td>\n",
       "      <td>0.064000</td>\n",
       "      <td>0.102564</td>\n",
       "    </tr>\n",
       "    <tr>\n",
       "      <th>(4R,4aS,6R)-(+) nootkatone</th>\n",
       "      <td>0.028986</td>\n",
       "      <td>0.000000</td>\n",
       "      <td>0.098765</td>\n",
       "      <td>0.103896</td>\n",
       "      <td>0.046512</td>\n",
       "      <td>0.080000</td>\n",
       "      <td>0.098765</td>\n",
       "      <td>0.108696</td>\n",
       "      <td>0.053333</td>\n",
       "      <td>0.091954</td>\n",
       "      <td>...</td>\n",
       "      <td>0.088608</td>\n",
       "      <td>0.114458</td>\n",
       "      <td>0.118380</td>\n",
       "      <td>0.116618</td>\n",
       "      <td>0.071429</td>\n",
       "      <td>0.064516</td>\n",
       "      <td>0.088235</td>\n",
       "      <td>0.090090</td>\n",
       "      <td>0.072072</td>\n",
       "      <td>0.084507</td>\n",
       "    </tr>\n",
       "    <tr>\n",
       "      <th>(2S,4R)-(+) cis-2-methyl-4-propyl-1,3-oxathiane</th>\n",
       "      <td>0.088889</td>\n",
       "      <td>0.093023</td>\n",
       "      <td>0.140351</td>\n",
       "      <td>0.075472</td>\n",
       "      <td>0.064516</td>\n",
       "      <td>0.117647</td>\n",
       "      <td>0.105263</td>\n",
       "      <td>0.000000</td>\n",
       "      <td>0.039216</td>\n",
       "      <td>0.000000</td>\n",
       "      <td>...</td>\n",
       "      <td>0.029851</td>\n",
       "      <td>0.064935</td>\n",
       "      <td>0.053872</td>\n",
       "      <td>0.056426</td>\n",
       "      <td>0.027778</td>\n",
       "      <td>0.028986</td>\n",
       "      <td>0.017857</td>\n",
       "      <td>0.022989</td>\n",
       "      <td>0.000000</td>\n",
       "      <td>0.101695</td>\n",
       "    </tr>\n",
       "  </tbody>\n",
       "</table>\n",
       "<p>5 rows × 9764 columns</p>\n",
       "</div>"
      ],
      "text/plain": [
       "                                                  CC(CN)O  C(CCl)Cl  \\\n",
       "Molecule Name                                                         \n",
       "(R)-(-)-gamma-ionone                             0.035088  0.000000   \n",
       "(4R)-(-)-carvone                                 0.044444  0.000000   \n",
       "(4R,7R)-(+)-galaxolide                           0.024096  0.000000   \n",
       "(4R,4aS,6R)-(+) nootkatone                       0.028986  0.000000   \n",
       "(2S,4R)-(+) cis-2-methyl-4-propyl-1,3-oxathiane  0.088889  0.093023   \n",
       "\n",
       "                                                 CCC(C)C(=O)C(=O)O  \\\n",
       "Molecule Name                                                        \n",
       "(R)-(-)-gamma-ionone                                      0.144928   \n",
       "(4R)-(-)-carvone                                          0.140351   \n",
       "(4R,7R)-(+)-galaxolide                                    0.042105   \n",
       "(4R,4aS,6R)-(+) nootkatone                                0.098765   \n",
       "(2S,4R)-(+) cis-2-methyl-4-propyl-1,3-oxathiane           0.140351   \n",
       "\n",
       "                                                 CC(C)C(=O)C(=O)O  \\\n",
       "Molecule Name                                                       \n",
       "(R)-(-)-gamma-ionone                                     0.153846   \n",
       "(4R)-(-)-carvone                                         0.150943   \n",
       "(4R,7R)-(+)-galaxolide                                   0.043956   \n",
       "(4R,4aS,6R)-(+) nootkatone                               0.103896   \n",
       "(2S,4R)-(+) cis-2-methyl-4-propyl-1,3-oxathiane          0.075472   \n",
       "\n",
       "                                                 C(CC(=O)O)C(=O)C(=O)O  \\\n",
       "Molecule Name                                                            \n",
       "(R)-(-)-gamma-ionone                                          0.081081   \n",
       "(4R)-(-)-carvone                                              0.064516   \n",
       "(4R,7R)-(+)-galaxolide                                        0.000000   \n",
       "(4R,4aS,6R)-(+) nootkatone                                    0.046512   \n",
       "(2S,4R)-(+) cis-2-methyl-4-propyl-1,3-oxathiane               0.064516   \n",
       "\n",
       "                                                 CCC(=O)C(=O)O  \\\n",
       "Molecule Name                                                    \n",
       "(R)-(-)-gamma-ionone                                  0.126984   \n",
       "(4R)-(-)-carvone                                      0.117647   \n",
       "(4R,7R)-(+)-galaxolide                                0.022472   \n",
       "(4R,4aS,6R)-(+) nootkatone                            0.080000   \n",
       "(2S,4R)-(+) cis-2-methyl-4-propyl-1,3-oxathiane       0.117647   \n",
       "\n",
       "                                                 CC(C)CC(=O)C(=O)O  \\\n",
       "Molecule Name                                                        \n",
       "(R)-(-)-gamma-ionone                                      0.144928   \n",
       "(4R)-(-)-carvone                                          0.140351   \n",
       "(4R,7R)-(+)-galaxolide                                    0.042105   \n",
       "(4R,4aS,6R)-(+) nootkatone                                0.098765   \n",
       "(2S,4R)-(+) cis-2-methyl-4-propyl-1,3-oxathiane           0.105263   \n",
       "\n",
       "                                                 C1=CC(=C(C=C1C(=O)O)O)O  \\\n",
       "Molecule Name                                                              \n",
       "(R)-(-)-gamma-ionone                                            0.100000   \n",
       "(4R)-(-)-carvone                                                0.147059   \n",
       "(4R,7R)-(+)-galaxolide                                          0.113208   \n",
       "(4R,4aS,6R)-(+) nootkatone                                      0.108696   \n",
       "(2S,4R)-(+) cis-2-methyl-4-propyl-1,3-oxathiane                 0.000000   \n",
       "\n",
       "                                                 C(C(=O)C(=O)O)S  \\\n",
       "Molecule Name                                                      \n",
       "(R)-(-)-gamma-ionone                                    0.095238   \n",
       "(4R)-(-)-carvone                                        0.078431   \n",
       "(4R,7R)-(+)-galaxolide                                  0.000000   \n",
       "(4R,4aS,6R)-(+) nootkatone                              0.053333   \n",
       "(2S,4R)-(+) cis-2-methyl-4-propyl-1,3-oxathiane         0.039216   \n",
       "\n",
       "                                                 C1=CC(=CC(=C1)O)C=O  ...  \\\n",
       "Molecule Name                                                         ...   \n",
       "(R)-(-)-gamma-ionone                                        0.080000  ...   \n",
       "(4R)-(-)-carvone                                            0.126984  ...   \n",
       "(4R,7R)-(+)-galaxolide                                      0.099010  ...   \n",
       "(4R,4aS,6R)-(+) nootkatone                                  0.091954  ...   \n",
       "(2S,4R)-(+) cis-2-methyl-4-propyl-1,3-oxathiane             0.000000  ...   \n",
       "\n",
       "                                                 CC(=O)O.C1=CC=C2C(=C1)C(=CC3=C2N=C4C=CC(=N)C=C4O3)N  \\\n",
       "Molecule Name                                                                                          \n",
       "(R)-(-)-gamma-ionone                                                                      0.082192     \n",
       "(4R)-(-)-carvone                                                                          0.104478     \n",
       "(4R,7R)-(+)-galaxolide                                                                    0.116279     \n",
       "(4R,4aS,6R)-(+) nootkatone                                                                0.088608     \n",
       "(2S,4R)-(+) cis-2-methyl-4-propyl-1,3-oxathiane                                           0.029851     \n",
       "\n",
       "                                                 CCC(C)N1CCC2(CC1)NC3=C4C5=C(C(=NC(=O)/C(=C/C=C/[C@@H]([C@@H]([C@H]([C@H]([C@H]([C@@H]([C@@H]([C@H](/C=C/O[C@@]6(C(=O)C4=C(O6)C(=C5O)C)C)OC)C)OC(=O)C)C)O)C)O)C)/C)C3=N2)O  \\\n",
       "Molecule Name                                                                                                                                                                                                                \n",
       "(R)-(-)-gamma-ionone                                                                      0.093750                                                                                                                           \n",
       "(4R)-(-)-carvone                                                                          0.090909                                                                                                                           \n",
       "(4R,7R)-(+)-galaxolide                                                                    0.127168                                                                                                                           \n",
       "(4R,4aS,6R)-(+) nootkatone                                                                0.114458                                                                                                                           \n",
       "(2S,4R)-(+) cis-2-methyl-4-propyl-1,3-oxathiane                                           0.064935                                                                                                                           \n",
       "\n",
       "                                                 C[C@H]1/C=C/C=C(\\C(=O)NC2=C(C(=C3C(=C2O)C(=C(C4=C3C(=O)[C@](O4)(O/C=C/[C@@H]([C@H]([C@H]([C@@H]([C@@H]([C@@H]([C@H]1O)C)O)C)OC(=O)C)C)OC)C)C)O)O)/C=N\\N5CCN(CC5)C)/C  \\\n",
       "Molecule Name                                                                                                                                                                                                           \n",
       "(R)-(-)-gamma-ionone                                                                      0.097087                                                                                                                      \n",
       "(4R)-(-)-carvone                                                                          0.094276                                                                                                                      \n",
       "(4R,7R)-(+)-galaxolide                                                                    0.125373                                                                                                                      \n",
       "(4R,4aS,6R)-(+) nootkatone                                                                0.118380                                                                                                                      \n",
       "(2S,4R)-(+) cis-2-methyl-4-propyl-1,3-oxathiane                                           0.053872                                                                                                                      \n",
       "\n",
       "                                                 C[C@H]1/C=C/C=C(\\C(=O)NC2=C(C(=C3C(=C2O)C(=C(C4=C3C(=O)[C@](O4)(O/C=C/[C@@H]([C@H]([C@H]([C@@H]([C@@H]([C@@H]([C@H]1O)C)O)C)OC(=O)C)C)OC)C)C)O)O)/C=N\\N5CCN(CC5)C6CCCC6)/C  \\\n",
       "Molecule Name                                                                                                                                                                                                                 \n",
       "(R)-(-)-gamma-ionone                                                                      0.096677                                                                                                                            \n",
       "(4R)-(-)-carvone                                                                          0.087774                                                                                                                            \n",
       "(4R,7R)-(+)-galaxolide                                                                    0.117647                                                                                                                            \n",
       "(4R,4aS,6R)-(+) nootkatone                                                                0.116618                                                                                                                            \n",
       "(2S,4R)-(+) cis-2-methyl-4-propyl-1,3-oxathiane                                           0.056426                                                                                                                            \n",
       "\n",
       "                                                 COC1=CC(=CC(=C1O)OC)/C=N\\N=C/C2=CC(=C(C(=C2)OC)O)OC  \\\n",
       "Molecule Name                                                                                          \n",
       "(R)-(-)-gamma-ionone                                                                      0.076923     \n",
       "(4R)-(-)-carvone                                                                          0.069444     \n",
       "(4R,7R)-(+)-galaxolide                                                                    0.131868     \n",
       "(4R,4aS,6R)-(+) nootkatone                                                                0.071429     \n",
       "(2S,4R)-(+) cis-2-methyl-4-propyl-1,3-oxathiane                                           0.027778     \n",
       "\n",
       "                                                 C[N+]1=CC=CC=C1/C=N\\O.[Cl-]  \\\n",
       "Molecule Name                                                                  \n",
       "(R)-(-)-gamma-ionone                                                0.074074   \n",
       "(4R)-(-)-carvone                                                    0.086957   \n",
       "(4R,7R)-(+)-galaxolide                                              0.074766   \n",
       "(4R,4aS,6R)-(+) nootkatone                                          0.064516   \n",
       "(2S,4R)-(+) cis-2-methyl-4-propyl-1,3-oxathiane                     0.028986   \n",
       "\n",
       "                                                 COC(=O)N/N=C\\C1=[N+](C2=CC=CC=C2[N+](=C1)[O-])[O-]  \\\n",
       "Molecule Name                                                                                         \n",
       "(R)-(-)-gamma-ionone                                                                      0.096774    \n",
       "(4R)-(-)-carvone                                                                          0.107143    \n",
       "(4R,7R)-(+)-galaxolide                                                                    0.080000    \n",
       "(4R,4aS,6R)-(+) nootkatone                                                                0.088235    \n",
       "(2S,4R)-(+) cis-2-methyl-4-propyl-1,3-oxathiane                                           0.017857    \n",
       "\n",
       "                                                 C1=CC(=C(C(=C1)Cl)CC(=O)NC(=N)N)Cl.Cl  \\\n",
       "Molecule Name                                                                            \n",
       "(R)-(-)-gamma-ionone                                                          0.080808   \n",
       "(4R)-(-)-carvone                                                              0.114943   \n",
       "(4R,7R)-(+)-galaxolide                                                        0.080000   \n",
       "(4R,4aS,6R)-(+) nootkatone                                                    0.090090   \n",
       "(2S,4R)-(+) cis-2-methyl-4-propyl-1,3-oxathiane                               0.022989   \n",
       "\n",
       "                                                 C1(=C(N=C(C(=N1)Cl)N)N)C(=O)NC(=N)N.O.O.Cl  \\\n",
       "Molecule Name                                                                                 \n",
       "(R)-(-)-gamma-ionone                                                               0.080808   \n",
       "(4R)-(-)-carvone                                                                   0.091954   \n",
       "(4R,7R)-(+)-galaxolide                                                             0.064000   \n",
       "(4R,4aS,6R)-(+) nootkatone                                                         0.072072   \n",
       "(2S,4R)-(+) cis-2-methyl-4-propyl-1,3-oxathiane                                    0.000000   \n",
       "\n",
       "                                                 CCCCCCCOC1=C(C=C(C=C1)CC=C)OC  \n",
       "Molecule Name                                                                   \n",
       "(R)-(-)-gamma-ionone                                                  0.076923  \n",
       "(4R)-(-)-carvone                                                      0.101695  \n",
       "(4R,7R)-(+)-galaxolide                                                0.102564  \n",
       "(4R,4aS,6R)-(+) nootkatone                                            0.084507  \n",
       "(2S,4R)-(+) cis-2-methyl-4-propyl-1,3-oxathiane                       0.101695  \n",
       "\n",
       "[5 rows x 9764 columns]"
      ]
     },
     "execution_count": 19,
     "metadata": {},
     "output_type": "execute_result"
    }
   ],
   "source": [
    "morgan_data.set_index('Molecule Name').head().iloc[:, 10:]"
   ]
  },
  {
   "cell_type": "code",
   "execution_count": 52,
   "metadata": {},
   "outputs": [
    {
     "data": {
      "text/html": [
       "<div>\n",
       "<style scoped>\n",
       "    .dataframe tbody tr th:only-of-type {\n",
       "        vertical-align: middle;\n",
       "    }\n",
       "\n",
       "    .dataframe tbody tr th {\n",
       "        vertical-align: top;\n",
       "    }\n",
       "\n",
       "    .dataframe thead th {\n",
       "        text-align: right;\n",
       "    }\n",
       "</style>\n",
       "<table border=\"1\" class=\"dataframe\">\n",
       "  <thead>\n",
       "    <tr style=\"text-align: right;\">\n",
       "      <th></th>\n",
       "      <th>Molecule Name</th>\n",
       "      <th>Pubchem ID #</th>\n",
       "      <th>Note</th>\n",
       "      <th>Detection Threshold</th>\n",
       "      <th>Detection Units</th>\n",
       "      <th>Normalized Detection Threshold</th>\n",
       "      <th>Molecule Odour</th>\n",
       "      <th>Resources</th>\n",
       "      <th>N</th>\n",
       "      <th>log_abs</th>\n",
       "      <th>...</th>\n",
       "      <th>CC(=O)O.C1=CC=C2C(=C1)C(=CC3=C2N=C4C=CC(=N)C=C4O3)N</th>\n",
       "      <th>CCC(C)N1CCC2(CC1)NC3=C4C5=C(C(=NC(=O)/C(=C/C=C/[C@@H]([C@@H]([C@H]([C@H]([C@H]([C@@H]([C@@H]([C@H](/C=C/O[C@@]6(C(=O)C4=C(O6)C(=C5O)C)C)OC)C)OC(=O)C)C)O)C)O)C)/C)C3=N2)O</th>\n",
       "      <th>C[C@H]1/C=C/C=C(\\C(=O)NC2=C(C(=C3C(=C2O)C(=C(C4=C3C(=O)[C@](O4)(O/C=C/[C@@H]([C@H]([C@H]([C@@H]([C@@H]([C@@H]([C@H]1O)C)O)C)OC(=O)C)C)OC)C)C)O)O)/C=N\\N5CCN(CC5)C)/C</th>\n",
       "      <th>C[C@H]1/C=C/C=C(\\C(=O)NC2=C(C(=C3C(=C2O)C(=C(C4=C3C(=O)[C@](O4)(O/C=C/[C@@H]([C@H]([C@H]([C@@H]([C@@H]([C@@H]([C@H]1O)C)O)C)OC(=O)C)C)OC)C)C)O)O)/C=N\\N5CCN(CC5)C6CCCC6)/C</th>\n",
       "      <th>COC1=CC(=CC(=C1O)OC)/C=N\\N=C/C2=CC(=C(C(=C2)OC)O)OC</th>\n",
       "      <th>C[N+]1=CC=CC=C1/C=N\\O.[Cl-]</th>\n",
       "      <th>COC(=O)N/N=C\\C1=[N+](C2=CC=CC=C2[N+](=C1)[O-])[O-]</th>\n",
       "      <th>C1=CC(=C(C(=C1)Cl)CC(=O)NC(=N)N)Cl.Cl</th>\n",
       "      <th>C1(=C(N=C(C(=N1)Cl)N)N)C(=O)NC(=N)N.O.O.Cl</th>\n",
       "      <th>CCCCCCCOC1=C(C=C(C=C1)CC=C)OC</th>\n",
       "    </tr>\n",
       "  </thead>\n",
       "  <tbody>\n",
       "    <tr>\n",
       "      <th>CC(=O)/C=C/[C@H]1C(=C)CCCC1(C)C</th>\n",
       "      <td>(R)-(-)-gamma-ionone</td>\n",
       "      <td>11389922</td>\n",
       "      <td>NaN</td>\n",
       "      <td>1.10E+01</td>\n",
       "      <td>ppb water</td>\n",
       "      <td>11.00</td>\n",
       "      <td>Weak green, fruity, pineapple-like odor with m...</td>\n",
       "      <td>Rows 66-100 are from here: https://www.jstage....</td>\n",
       "      <td>0</td>\n",
       "      <td>2.196295</td>\n",
       "      <td>...</td>\n",
       "      <td>0.082192</td>\n",
       "      <td>0.093750</td>\n",
       "      <td>0.097087</td>\n",
       "      <td>0.096677</td>\n",
       "      <td>0.076923</td>\n",
       "      <td>0.074074</td>\n",
       "      <td>0.096774</td>\n",
       "      <td>0.080808</td>\n",
       "      <td>0.080808</td>\n",
       "      <td>0.076923</td>\n",
       "    </tr>\n",
       "    <tr>\n",
       "      <th>CC1=CC[C@H](CC1=O)C(=C)C</th>\n",
       "      <td>(4R)-(-)-carvone</td>\n",
       "      <td>439570</td>\n",
       "      <td>NaN</td>\n",
       "      <td>2.00E+00</td>\n",
       "      <td>ppb</td>\n",
       "      <td>2.00</td>\n",
       "      <td>sweet spearmint, fresh herbal</td>\n",
       "      <td>Rows 122 - 193 are from here: https://github.c...</td>\n",
       "      <td>1</td>\n",
       "      <td>1.812913</td>\n",
       "      <td>...</td>\n",
       "      <td>0.104478</td>\n",
       "      <td>0.090909</td>\n",
       "      <td>0.094276</td>\n",
       "      <td>0.087774</td>\n",
       "      <td>0.069444</td>\n",
       "      <td>0.086957</td>\n",
       "      <td>0.107143</td>\n",
       "      <td>0.114943</td>\n",
       "      <td>0.091954</td>\n",
       "      <td>0.101695</td>\n",
       "    </tr>\n",
       "    <tr>\n",
       "      <th>C[C@H]1COCC2=CC3=C(C=C12)C([C@H](C3(C)C)C)(C)C</th>\n",
       "      <td>(4R,7R)-(+)-galaxolide</td>\n",
       "      <td>14177988</td>\n",
       "      <td>NaN</td>\n",
       "      <td>4.40E-01</td>\n",
       "      <td>ppb in air</td>\n",
       "      <td>0.44</td>\n",
       "      <td>weak to almost odorless</td>\n",
       "      <td>Rows 224-267 are from here: https://github.com...</td>\n",
       "      <td>2</td>\n",
       "      <td>2.643453</td>\n",
       "      <td>...</td>\n",
       "      <td>0.116279</td>\n",
       "      <td>0.127168</td>\n",
       "      <td>0.125373</td>\n",
       "      <td>0.117647</td>\n",
       "      <td>0.131868</td>\n",
       "      <td>0.074766</td>\n",
       "      <td>0.080000</td>\n",
       "      <td>0.080000</td>\n",
       "      <td>0.064000</td>\n",
       "      <td>0.102564</td>\n",
       "    </tr>\n",
       "    <tr>\n",
       "      <th>C[C@@H]1CC(=O)C=C2[C@]1(C[C@@H](CC2)C(=C)C)C</th>\n",
       "      <td>(4R,4aS,6R)-(+) nootkatone</td>\n",
       "      <td>1268142</td>\n",
       "      <td>NaN</td>\n",
       "      <td>1.50E+01</td>\n",
       "      <td>ppm</td>\n",
       "      <td>15000.00</td>\n",
       "      <td>grapefruit odor</td>\n",
       "      <td>Rows 370-407 are from here: https://github.com...</td>\n",
       "      <td>3</td>\n",
       "      <td>3.643453</td>\n",
       "      <td>...</td>\n",
       "      <td>0.088608</td>\n",
       "      <td>0.114458</td>\n",
       "      <td>0.118380</td>\n",
       "      <td>0.116618</td>\n",
       "      <td>0.071429</td>\n",
       "      <td>0.064516</td>\n",
       "      <td>0.088235</td>\n",
       "      <td>0.090090</td>\n",
       "      <td>0.072072</td>\n",
       "      <td>0.084507</td>\n",
       "    </tr>\n",
       "    <tr>\n",
       "      <th>CCC[C@@H]1CCO[C@@H](S1)C</th>\n",
       "      <td>(2S,4R)-(+) cis-2-methyl-4-propyl-1,3-oxathiane</td>\n",
       "      <td>6931728</td>\n",
       "      <td>NaN</td>\n",
       "      <td>2.00E+00</td>\n",
       "      <td>ppb</td>\n",
       "      <td>2.00</td>\n",
       "      <td>ctypical sulfurous, with a rubbery onion note;...</td>\n",
       "      <td>Rows 424-435 are from here: https://github.com...</td>\n",
       "      <td>4</td>\n",
       "      <td>0.301030</td>\n",
       "      <td>...</td>\n",
       "      <td>0.029851</td>\n",
       "      <td>0.064935</td>\n",
       "      <td>0.053872</td>\n",
       "      <td>0.056426</td>\n",
       "      <td>0.027778</td>\n",
       "      <td>0.028986</td>\n",
       "      <td>0.017857</td>\n",
       "      <td>0.022989</td>\n",
       "      <td>0.000000</td>\n",
       "      <td>0.101695</td>\n",
       "    </tr>\n",
       "  </tbody>\n",
       "</table>\n",
       "<p>5 rows × 11602 columns</p>\n",
       "</div>"
      ],
      "text/plain": [
       "                                                                                  Molecule Name  \\\n",
       "CC(=O)/C=C/[C@H]1C(=C)CCCC1(C)C                                            (R)-(-)-gamma-ionone   \n",
       "CC1=CC[C@H](CC1=O)C(=C)C                                                       (4R)-(-)-carvone   \n",
       "C[C@H]1COCC2=CC3=C(C=C12)C([C@H](C3(C)C)C)(C)C                           (4R,7R)-(+)-galaxolide   \n",
       "C[C@@H]1CC(=O)C=C2[C@]1(C[C@@H](CC2)C(=C)C)C                         (4R,4aS,6R)-(+) nootkatone   \n",
       "CCC[C@@H]1CCO[C@@H](S1)C                        (2S,4R)-(+) cis-2-methyl-4-propyl-1,3-oxathiane   \n",
       "\n",
       "                                                Pubchem ID # Note  \\\n",
       "CC(=O)/C=C/[C@H]1C(=C)CCCC1(C)C                     11389922  NaN   \n",
       "CC1=CC[C@H](CC1=O)C(=C)C                              439570  NaN   \n",
       "C[C@H]1COCC2=CC3=C(C=C12)C([C@H](C3(C)C)C)(C)C      14177988  NaN   \n",
       "C[C@@H]1CC(=O)C=C2[C@]1(C[C@@H](CC2)C(=C)C)C         1268142  NaN   \n",
       "CCC[C@@H]1CCO[C@@H](S1)C                             6931728  NaN   \n",
       "\n",
       "                                               Detection Threshold  \\\n",
       "CC(=O)/C=C/[C@H]1C(=C)CCCC1(C)C                           1.10E+01   \n",
       "CC1=CC[C@H](CC1=O)C(=C)C                                  2.00E+00   \n",
       "C[C@H]1COCC2=CC3=C(C=C12)C([C@H](C3(C)C)C)(C)C            4.40E-01   \n",
       "C[C@@H]1CC(=O)C=C2[C@]1(C[C@@H](CC2)C(=C)C)C              1.50E+01   \n",
       "CCC[C@@H]1CCO[C@@H](S1)C                                  2.00E+00   \n",
       "\n",
       "                                               Detection Units  \\\n",
       "CC(=O)/C=C/[C@H]1C(=C)CCCC1(C)C                      ppb water   \n",
       "CC1=CC[C@H](CC1=O)C(=C)C                                   ppb   \n",
       "C[C@H]1COCC2=CC3=C(C=C12)C([C@H](C3(C)C)C)(C)C      ppb in air   \n",
       "C[C@@H]1CC(=O)C=C2[C@]1(C[C@@H](CC2)C(=C)C)C               ppm   \n",
       "CCC[C@@H]1CCO[C@@H](S1)C                                   ppb   \n",
       "\n",
       "                                                Normalized Detection Threshold  \\\n",
       "CC(=O)/C=C/[C@H]1C(=C)CCCC1(C)C                                          11.00   \n",
       "CC1=CC[C@H](CC1=O)C(=C)C                                                  2.00   \n",
       "C[C@H]1COCC2=CC3=C(C=C12)C([C@H](C3(C)C)C)(C)C                            0.44   \n",
       "C[C@@H]1CC(=O)C=C2[C@]1(C[C@@H](CC2)C(=C)C)C                          15000.00   \n",
       "CCC[C@@H]1CCO[C@@H](S1)C                                                  2.00   \n",
       "\n",
       "                                                                                   Molecule Odour  \\\n",
       "CC(=O)/C=C/[C@H]1C(=C)CCCC1(C)C                 Weak green, fruity, pineapple-like odor with m...   \n",
       "CC1=CC[C@H](CC1=O)C(=C)C                                            sweet spearmint, fresh herbal   \n",
       "C[C@H]1COCC2=CC3=C(C=C12)C([C@H](C3(C)C)C)(C)C                            weak to almost odorless   \n",
       "C[C@@H]1CC(=O)C=C2[C@]1(C[C@@H](CC2)C(=C)C)C                                      grapefruit odor   \n",
       "CCC[C@@H]1CCO[C@@H](S1)C                        ctypical sulfurous, with a rubbery onion note;...   \n",
       "\n",
       "                                                                                        Resources  \\\n",
       "CC(=O)/C=C/[C@H]1C(=C)CCCC1(C)C                 Rows 66-100 are from here: https://www.jstage....   \n",
       "CC1=CC[C@H](CC1=O)C(=C)C                        Rows 122 - 193 are from here: https://github.c...   \n",
       "C[C@H]1COCC2=CC3=C(C=C12)C([C@H](C3(C)C)C)(C)C  Rows 224-267 are from here: https://github.com...   \n",
       "C[C@@H]1CC(=O)C=C2[C@]1(C[C@@H](CC2)C(=C)C)C    Rows 370-407 are from here: https://github.com...   \n",
       "CCC[C@@H]1CCO[C@@H](S1)C                        Rows 424-435 are from here: https://github.com...   \n",
       "\n",
       "                                                N   log_abs  ...  \\\n",
       "CC(=O)/C=C/[C@H]1C(=C)CCCC1(C)C                 0  2.196295  ...   \n",
       "CC1=CC[C@H](CC1=O)C(=C)C                        1  1.812913  ...   \n",
       "C[C@H]1COCC2=CC3=C(C=C12)C([C@H](C3(C)C)C)(C)C  2  2.643453  ...   \n",
       "C[C@@H]1CC(=O)C=C2[C@]1(C[C@@H](CC2)C(=C)C)C    3  3.643453  ...   \n",
       "CCC[C@@H]1CCO[C@@H](S1)C                        4  0.301030  ...   \n",
       "\n",
       "                                                CC(=O)O.C1=CC=C2C(=C1)C(=CC3=C2N=C4C=CC(=N)C=C4O3)N  \\\n",
       "CC(=O)/C=C/[C@H]1C(=C)CCCC1(C)C                                                          0.082192     \n",
       "CC1=CC[C@H](CC1=O)C(=C)C                                                                 0.104478     \n",
       "C[C@H]1COCC2=CC3=C(C=C12)C([C@H](C3(C)C)C)(C)C                                           0.116279     \n",
       "C[C@@H]1CC(=O)C=C2[C@]1(C[C@@H](CC2)C(=C)C)C                                             0.088608     \n",
       "CCC[C@@H]1CCO[C@@H](S1)C                                                                 0.029851     \n",
       "\n",
       "                                               CCC(C)N1CCC2(CC1)NC3=C4C5=C(C(=NC(=O)/C(=C/C=C/[C@@H]([C@@H]([C@H]([C@H]([C@H]([C@@H]([C@@H]([C@H](/C=C/O[C@@]6(C(=O)C4=C(O6)C(=C5O)C)C)OC)C)OC(=O)C)C)O)C)O)C)/C)C3=N2)O  \\\n",
       "CC(=O)/C=C/[C@H]1C(=C)CCCC1(C)C                                                          0.093750                                                                                                                          \n",
       "CC1=CC[C@H](CC1=O)C(=C)C                                                                 0.090909                                                                                                                          \n",
       "C[C@H]1COCC2=CC3=C(C=C12)C([C@H](C3(C)C)C)(C)C                                           0.127168                                                                                                                          \n",
       "C[C@@H]1CC(=O)C=C2[C@]1(C[C@@H](CC2)C(=C)C)C                                             0.114458                                                                                                                          \n",
       "CCC[C@@H]1CCO[C@@H](S1)C                                                                 0.064935                                                                                                                          \n",
       "\n",
       "                                               C[C@H]1/C=C/C=C(\\C(=O)NC2=C(C(=C3C(=C2O)C(=C(C4=C3C(=O)[C@](O4)(O/C=C/[C@@H]([C@H]([C@H]([C@@H]([C@@H]([C@@H]([C@H]1O)C)O)C)OC(=O)C)C)OC)C)C)O)O)/C=N\\N5CCN(CC5)C)/C  \\\n",
       "CC(=O)/C=C/[C@H]1C(=C)CCCC1(C)C                                                          0.097087                                                                                                                     \n",
       "CC1=CC[C@H](CC1=O)C(=C)C                                                                 0.094276                                                                                                                     \n",
       "C[C@H]1COCC2=CC3=C(C=C12)C([C@H](C3(C)C)C)(C)C                                           0.125373                                                                                                                     \n",
       "C[C@@H]1CC(=O)C=C2[C@]1(C[C@@H](CC2)C(=C)C)C                                             0.118380                                                                                                                     \n",
       "CCC[C@@H]1CCO[C@@H](S1)C                                                                 0.053872                                                                                                                     \n",
       "\n",
       "                                               C[C@H]1/C=C/C=C(\\C(=O)NC2=C(C(=C3C(=C2O)C(=C(C4=C3C(=O)[C@](O4)(O/C=C/[C@@H]([C@H]([C@H]([C@@H]([C@@H]([C@@H]([C@H]1O)C)O)C)OC(=O)C)C)OC)C)C)O)O)/C=N\\N5CCN(CC5)C6CCCC6)/C  \\\n",
       "CC(=O)/C=C/[C@H]1C(=C)CCCC1(C)C                                                          0.096677                                                                                                                           \n",
       "CC1=CC[C@H](CC1=O)C(=C)C                                                                 0.087774                                                                                                                           \n",
       "C[C@H]1COCC2=CC3=C(C=C12)C([C@H](C3(C)C)C)(C)C                                           0.117647                                                                                                                           \n",
       "C[C@@H]1CC(=O)C=C2[C@]1(C[C@@H](CC2)C(=C)C)C                                             0.116618                                                                                                                           \n",
       "CCC[C@@H]1CCO[C@@H](S1)C                                                                 0.056426                                                                                                                           \n",
       "\n",
       "                                               COC1=CC(=CC(=C1O)OC)/C=N\\N=C/C2=CC(=C(C(=C2)OC)O)OC  \\\n",
       "CC(=O)/C=C/[C@H]1C(=C)CCCC1(C)C                                                          0.076923    \n",
       "CC1=CC[C@H](CC1=O)C(=C)C                                                                 0.069444    \n",
       "C[C@H]1COCC2=CC3=C(C=C12)C([C@H](C3(C)C)C)(C)C                                           0.131868    \n",
       "C[C@@H]1CC(=O)C=C2[C@]1(C[C@@H](CC2)C(=C)C)C                                             0.071429    \n",
       "CCC[C@@H]1CCO[C@@H](S1)C                                                                 0.027778    \n",
       "\n",
       "                                               C[N+]1=CC=CC=C1/C=N\\O.[Cl-]  \\\n",
       "CC(=O)/C=C/[C@H]1C(=C)CCCC1(C)C                                   0.074074   \n",
       "CC1=CC[C@H](CC1=O)C(=C)C                                          0.086957   \n",
       "C[C@H]1COCC2=CC3=C(C=C12)C([C@H](C3(C)C)C)(C)C                    0.074766   \n",
       "C[C@@H]1CC(=O)C=C2[C@]1(C[C@@H](CC2)C(=C)C)C                      0.064516   \n",
       "CCC[C@@H]1CCO[C@@H](S1)C                                          0.028986   \n",
       "\n",
       "                                               COC(=O)N/N=C\\C1=[N+](C2=CC=CC=C2[N+](=C1)[O-])[O-]  \\\n",
       "CC(=O)/C=C/[C@H]1C(=C)CCCC1(C)C                                                          0.096774   \n",
       "CC1=CC[C@H](CC1=O)C(=C)C                                                                 0.107143   \n",
       "C[C@H]1COCC2=CC3=C(C=C12)C([C@H](C3(C)C)C)(C)C                                           0.080000   \n",
       "C[C@@H]1CC(=O)C=C2[C@]1(C[C@@H](CC2)C(=C)C)C                                             0.088235   \n",
       "CCC[C@@H]1CCO[C@@H](S1)C                                                                 0.017857   \n",
       "\n",
       "                                               C1=CC(=C(C(=C1)Cl)CC(=O)NC(=N)N)Cl.Cl  \\\n",
       "CC(=O)/C=C/[C@H]1C(=C)CCCC1(C)C                                             0.080808   \n",
       "CC1=CC[C@H](CC1=O)C(=C)C                                                    0.114943   \n",
       "C[C@H]1COCC2=CC3=C(C=C12)C([C@H](C3(C)C)C)(C)C                              0.080000   \n",
       "C[C@@H]1CC(=O)C=C2[C@]1(C[C@@H](CC2)C(=C)C)C                                0.090090   \n",
       "CCC[C@@H]1CCO[C@@H](S1)C                                                    0.022989   \n",
       "\n",
       "                                               C1(=C(N=C(C(=N1)Cl)N)N)C(=O)NC(=N)N.O.O.Cl  \\\n",
       "CC(=O)/C=C/[C@H]1C(=C)CCCC1(C)C                                                  0.080808   \n",
       "CC1=CC[C@H](CC1=O)C(=C)C                                                         0.091954   \n",
       "C[C@H]1COCC2=CC3=C(C=C12)C([C@H](C3(C)C)C)(C)C                                   0.064000   \n",
       "C[C@@H]1CC(=O)C=C2[C@]1(C[C@@H](CC2)C(=C)C)C                                     0.072072   \n",
       "CCC[C@@H]1CCO[C@@H](S1)C                                                         0.000000   \n",
       "\n",
       "                                               CCCCCCCOC1=C(C=C(C=C1)CC=C)OC  \n",
       "CC(=O)/C=C/[C@H]1C(=C)CCCC1(C)C                                     0.076923  \n",
       "CC1=CC[C@H](CC1=O)C(=C)C                                            0.101695  \n",
       "C[C@H]1COCC2=CC3=C(C=C12)C([C@H](C3(C)C)C)(C)C                      0.102564  \n",
       "C[C@@H]1CC(=O)C=C2[C@]1(C[C@@H](CC2)C(=C)C)C                        0.084507  \n",
       "CCC[C@@H]1CCO[C@@H](S1)C                                            0.101695  \n",
       "\n",
       "[5 rows x 11602 columns]"
      ]
     },
     "execution_count": 52,
     "metadata": {},
     "output_type": "execute_result"
    }
   ],
   "source": [
    "#Data frame that has both the mordred and morgan features\n",
    "both = mordred_data.join(morgan_data.iloc[:,10:], how=\"inner\", rsuffix='morg_')\n",
    "both.head()"
   ]
  },
  {
   "cell_type": "code",
   "execution_count": 54,
   "metadata": {},
   "outputs": [],
   "source": [
    "#try to get rid of columns where varience does not tell us much and add in optical feature"
   ]
  },
  {
   "cell_type": "code",
   "execution_count": 29,
   "metadata": {},
   "outputs": [
    {
     "name": "stdout",
     "output_type": "stream",
     "text": [
      "8.090569787181775e+19\n",
      "0.0\n"
     ]
    }
   ],
   "source": [
    "print(both.var().max())\n",
    "print(both.var().min())"
   ]
  },
  {
   "cell_type": "code",
   "execution_count": 22,
   "metadata": {},
   "outputs": [],
   "source": [
    "#Gets all Mordred or mogan features that have numeric values and not Null values\n",
    "#The last line joins the final mordred and morgan features \n",
    "finite_mordred = a.finite_features(mordred_data)\n",
    "finite_morgan = a.finite_features(morgan_data)\n",
    "both_features = finite_mordred | finite_morgan"
   ]
  },
  {
   "cell_type": "markdown",
   "metadata": {},
   "source": [
    "## Creating the Models"
   ]
  },
  {
   "cell_type": "code",
   "execution_count": 23,
   "metadata": {},
   "outputs": [
    {
     "data": {
      "text/plain": [
       "Text(0, 0.5, 'Number of Enantiomeric Pairs')"
      ]
     },
     "execution_count": 23,
     "metadata": {},
     "output_type": "execute_result"
    },
    {
     "data": {
      "image/png": "[encoded data removed]",
      "text/plain": [
       "<Figure size 288x396 with 1 Axes>"
      ]
     },
     "metadata": {},
     "output_type": "display_data"
    }
   ],
   "source": [
    "import matplotlib.pyplot as plt\n",
    "import seaborn as sns\n",
    "sns.set_style(\"whitegrid\")\n",
    "#sns.set_context('poster')\n",
    "plt.figure(figsize=(4,5.5))\n",
    "stuff = half_coleman_data[half_coleman_data[\"log_abs\"]<50]\n",
    "plt.hist(stuff[\"log_abs\"], bins=25, color=\"#800000\", alpha=0.8);\n",
    "plt.xticks([0,1,2,3], [\"1x\", \"10x\", \"100x\", \"1000x\"])\n",
    "plt.xlabel(\"\\nFold Difference in Detection\\nThreshold between Enantiomers\")\n",
    "plt.ylabel(\"Number of Enantiomeric Pairs\")"
   ]
  },
  {
   "cell_type": "code",
   "execution_count": 221,
   "metadata": {},
   "outputs": [],
   "source": [
    "def create_model(Xn, y):\n",
    "    import pandas as pd\n",
    "    from scipy.stats import pearsonr, spearmanr\n",
    "    from sklearn.model_selection import cross_val_predict, LeaveOneOut\n",
    "    from sklearn.ensemble import RandomForestRegressor\n",
    "    from sklearn.svm import SVR\n",
    "    from sklearn.preprocessing import MinMaxScaler, StandardScaler \n",
    "    from sklearn.linear_model import ElasticNet\n",
    "    from tqdm.auto import tqdm\n",
    "    #Xn = pd.DataFrame(MinMaxScaler().fit_transform(X), index=X.index, columns=X.columns)\n",
    "    #enr = ElasticNet(alpha=0, l1_ratio=1)\n",
    "    #rfr = RandomForestRegressor(n_estimators=100)\n",
    "    Cs = np.logspace(-3, 3, 13)\n",
    "    rs_in = pd.Series(index=Cs, dtype=float)\n",
    "    rs_out = pd.Series(index=Cs, dtype=float)\n",
    "    rhos_out = pd.Series(index=Cs, dtype=float)\n",
    "    for C in tqdm(Cs):\n",
    "        svr = SVR(C=C, kernel='rbf')\n",
    "        clf = svr\n",
    "        #y_predict = cross_val_predict(rfr, Xn, y, cv=LeaveOneOut(), n_jobs=-1)\n",
    "        clf.fit(Xn, y)\n",
    "        y_predict_in = clf.predict(Xn)\n",
    "        y_predict_out = cross_val_predict(clf, Xn, y, cv=LeaveOneOut(), n_jobs=-1)\n",
    "        y_predict_in = np.clip(y_predict_in, 0, np.inf)\n",
    "        y_predict_out = np.clip(y_predict_out, 0, np.inf)\n",
    "        rs_in[C] = pearsonr(y, y_predict_in)[0]\n",
    "        rs_out[C] = pearsonr(y, y_predict_out)[0]\n",
    "        rhos_out[C] = spearmanr(y, y_predict_out)[0]\n",
    "\n",
    "    plt.figure(figsize=(5, 5))\n",
    "    rs_in.plot(label='In-sample prediction R')\n",
    "    rs_out.plot(label='Out-of-sample prediction R')\n",
    "    rhos_out.plot(label=r'Out-of-sample prediction $\\rho$')\n",
    "    plt.xscale('log')\n",
    "    plt.ylim(0, 1)\n",
    "    plt.ylabel('Correlation\\n(predicted vs observed)')\n",
    "    plt.xlabel('C (SVR hyperparameter)')\n",
    "    plt.legend(fontsize=10)"
   ]
  },
  {
   "cell_type": "code",
   "execution_count": 226,
   "metadata": {},
   "outputs": [],
   "source": [
    "# Gets the appropriate parameter values for mordred model\n",
    "# Gets the valid features (not null values) from feature data frame and the log_abs values from the feature dataframe\n",
    "#X = both[both_features]; y = both['log_abs']\n",
    "#X = morgan_data[finite_morgan]; y = morgan_data['log_abs']\n",
    "X_morded = mordred_data[finite_mordred]; y = mordred_data['log_abs']\n",
    "#X = X.join(half_coleman_data.set_index('SMILES String')['det'])\n",
    "X_morded = X_morded[y < 10]\n",
    "y_mordred = y[y < 10]\n",
    "Xn_mordred = pd.DataFrame(StandardScaler().fit_transform(X_morded), index=X_morded.index, columns=X_morded.columns)"
   ]
  },
  {
   "cell_type": "code",
   "execution_count": 227,
   "metadata": {},
   "outputs": [
    {
     "name": "stderr",
     "output_type": "stream",
     "text": [
      "100%|██████████| 13/13 [00:24<00:00,  1.87s/it]\n"
     ]
    },
    {
     "data": {
      "image/png": "[encoded data removed]",
      "text/plain": [
       "<Figure size 360x360 with 1 Axes>"
      ]
     },
     "metadata": {},
     "output_type": "display_data"
    }
   ],
   "source": [
    "#Creating model for just mordred_data\n",
    "create_model(Xn_mordred, y_mordred)"
   ]
  },
  {
   "cell_type": "code",
   "execution_count": 239,
   "metadata": {},
   "outputs": [],
   "source": [
    "x_morgan = morgan_data[finite_morgan]\n",
    "x_morgan = x_morgan[y_morgan < 10]\n",
    "y_morgan = morgan_data[\"log_abs\"]\n",
    "y_morgan = y_morgan[y_morgan < 10]\n",
    "Xn_morgan = pd.DataFrame(StandardScaler().fit_transform(x_morgan), index=x_morgan.index, columns=x_morgan.columns)"
   ]
  },
  {
   "cell_type": "code",
   "execution_count": 240,
   "metadata": {},
   "outputs": [
    {
     "name": "stderr",
     "output_type": "stream",
     "text": [
      "100%|██████████| 13/13 [04:45<00:00, 21.98s/it]\n"
     ]
    },
    {
     "data": {
      "image/png": "[encoded data removed]",
      "text/plain": [
       "<Figure size 360x360 with 1 Axes>"
      ]
     },
     "metadata": {},
     "output_type": "display_data"
    }
   ],
   "source": [
    "create_model(Xn_morgan, y_morgan)"
   ]
  },
  {
   "cell_type": "code",
   "execution_count": 233,
   "metadata": {},
   "outputs": [],
   "source": [
    "x_gme = g_model_embeddings.iloc[:,11:]\n",
    "y_gme = g_model_embeddings[\"log_abs\"]\n",
    "Xn_gme = pd.DataFrame(StandardScaler().fit_transform(x_gme), index=x_gme.index, columns=x_gme.columns)"
   ]
  },
  {
   "cell_type": "code",
   "execution_count": 234,
   "metadata": {},
   "outputs": [
    {
     "name": "stderr",
     "output_type": "stream",
     "text": [
      "100%|██████████| 13/13 [00:01<00:00, 10.02it/s]\n"
     ]
    },
    {
     "data": {
      "image/png": "[encoded data removed]",
      "text/plain": [
       "<Figure size 360x360 with 1 Axes>"
      ]
     },
     "metadata": {},
     "output_type": "display_data"
    }
   ],
   "source": [
    "create_model(Xn_gme, y_gme)"
   ]
  },
  {
   "cell_type": "markdown",
   "metadata": {},
   "source": [
    "### Liyah, stop here.  I can explain what I am doing in the next section another time."
   ]
  },
  {
   "cell_type": "code",
   "execution_count": null,
   "metadata": {},
   "outputs": [
    {
     "data": {
      "text/plain": [
       "RFE(estimator=SVR(C=10, kernel='linear'), n_features_to_select=1, step=10)"
      ]
     },
     "execution_count": 27,
     "metadata": {},
     "output_type": "execute_result"
    }
   ],
   "source": [
    "from sklearn.feature_selection import RFE, RFECV\n",
    "svr = SVR(C=10, kernel='linear')\n",
    "rfe = RFE(svr, n_features_to_select=1, step=10)\n",
    "rfe.fit(Xn, y)"
   ]
  },
  {
   "cell_type": "code",
   "execution_count": null,
   "metadata": {},
   "outputs": [
    {
     "data": {
      "text/plain": [
       "108"
      ]
     },
     "execution_count": 28,
     "metadata": {},
     "output_type": "execute_result"
    }
   ],
   "source": [
    "rfe.ranking_.max()"
   ]
  },
  {
   "cell_type": "code",
   "execution_count": null,
   "metadata": {},
   "outputs": [
    {
     "data": {
      "application/vnd.jupyter.widget-view+json": {
       "model_id": "82aad0e4c5d242cf8c5fa333b678bdea",
       "version_major": 2,
       "version_minor": 0
      },
      "text/plain": [
       "HBox(children=(FloatProgress(value=0.0, max=108.0), HTML(value='')))"
      ]
     },
     "metadata": {},
     "output_type": "display_data"
    },
    {
     "name": "stdout",
     "output_type": "stream",
     "text": [
      "\n"
     ]
    }
   ],
   "source": [
    "svr = SVR(C=10, kernel='rbf')\n",
    "ns = range(1, 109, 1)\n",
    "rs = pd.Series(index=ns, dtype=float)\n",
    "for n in tqdm(ns):\n",
    "    Xn_ = Xn[Xn.columns[rfe.ranking_ <= n]]\n",
    "    y_predict = cross_val_predict(svr, Xn_, y, cv=LeaveOneOut(), n_jobs=-1)\n",
    "    rs[n] = np.corrcoef(y, y_predict)[0, 1]"
   ]
  },
  {
   "cell_type": "code",
   "execution_count": null,
   "metadata": {},
   "outputs": [
    {
     "data": {
      "text/plain": [
       "<matplotlib.axes._subplots.AxesSubplot at 0x7f014caf3290>"
      ]
     },
     "execution_count": 30,
     "metadata": {},
     "output_type": "execute_result"
    },
    {
     "data": {
      "image/png": "[encoded data removed]",
      "text/plain": [
       "<Figure size 432x288 with 1 Axes>"
      ]
     },
     "metadata": {},
     "output_type": "display_data"
    }
   ],
   "source": [
    "rs.plot()"
   ]
  },
  {
   "cell_type": "code",
   "execution_count": null,
   "metadata": {},
   "outputs": [
    {
     "data": {
      "application/vnd.jupyter.widget-view+json": {
       "model_id": "dd9327ffac634c4eac32cd0df54a5b44",
       "version_major": 2,
       "version_minor": 0
      },
      "text/plain": [
       "HBox(children=(FloatProgress(value=0.0, max=13.0), HTML(value='')))"
      ]
     },
     "metadata": {},
     "output_type": "display_data"
    },
    {
     "name": "stdout",
     "output_type": "stream",
     "text": [
      "\n"
     ]
    }
   ],
   "source": [
    "Cs = np.logspace(-3, 3, 13)\n",
    "rs_in = pd.Series(index=Cs, dtype=float)\n",
    "rs_out = pd.Series(index=Cs, dtype=float)\n",
    "rhos_out = pd.Series(index=Cs, dtype=float)\n",
    "Xn_ = Xn[Xn.columns[rfe.ranking_ <= 10]]\n",
    "for C in tqdm(Cs):\n",
    "    svr = SVR(C=C, kernel='rbf')\n",
    "    clf = svr\n",
    "    #y_predict = cross_val_predict(rfr, Xn, y, cv=LeaveOneOut(), n_jobs=-1)\n",
    "    clf.fit(Xn_, y)\n",
    "    y_predict_in = clf.predict(Xn_)\n",
    "    y_predict_out = cross_val_predict(clf, Xn_, y, cv=LeaveOneOut(), n_jobs=-1)\n",
    "    y_predict_in = np.clip(y_predict_in, 0, np.inf)\n",
    "    y_predict_out = np.clip(y_predict_out, 0, np.inf)\n",
    "    rs_in[C] = pearsonr(y, y_predict_in)[0]\n",
    "    rs_out[C] = pearsonr(y, y_predict_out)[0]\n",
    "    rhos_out[C] = spearmanr(y, y_predict_out)[0]"
   ]
  },
  {
   "cell_type": "code",
   "execution_count": null,
   "metadata": {},
   "outputs": [
    {
     "data": {
      "text/plain": [
       "<matplotlib.legend.Legend at 0x7f014cb51650>"
      ]
     },
     "execution_count": 32,
     "metadata": {},
     "output_type": "execute_result"
    },
    {
     "data": {
      "image/png": "[encoded data removed]",
      "text/plain": [
       "<Figure size 432x288 with 1 Axes>"
      ]
     },
     "metadata": {},
     "output_type": "display_data"
    }
   ],
   "source": [
    "rs_in.plot(label='In-sample prediction R')\n",
    "rs_out.plot(label='Out-of-sample prediction R')\n",
    "rhos_out.plot(label=r'Out-of-sample prediction $\\rho$')\n",
    "plt.xscale('log')\n",
    "plt.ylabel('Correlation\\n(predicted vs observed)')\n",
    "plt.xlabel('C (SVR hyperparameter)')\n",
    "plt.legend(fontsize=10)"
   ]
  },
  {
   "cell_type": "code",
   "execution_count": null,
   "metadata": {},
   "outputs": [
    {
     "data": {
      "text/plain": [
       "0.4983942074677981"
      ]
     },
     "execution_count": 33,
     "metadata": {},
     "output_type": "execute_result"
    }
   ],
   "source": [
    "Xn_ = Xn[Xn.columns[rfe.ranking_ <= 10]]\n",
    "rfr = RandomForestRegressor(n_estimators=100)\n",
    "y_predict = cross_val_predict(rfr, Xn_, y, cv=LeaveOneOut(), n_jobs=-1)\n",
    "np.corrcoef(y, y_predict)[0, 1]"
   ]
  },
  {
   "cell_type": "code",
   "execution_count": null,
   "metadata": {},
   "outputs": [
    {
     "data": {
      "text/plain": [
       "det            0.176796\n",
       "ATSC6dv        0.062489\n",
       "Xp-5d          0.045340\n",
       "TIC2           0.039908\n",
       "ATSC4i         0.032647\n",
       "piPC8          0.028903\n",
       "ATSC1p         0.025059\n",
       "ATSC8dv        0.018635\n",
       "GATS5c         0.017560\n",
       "SsssCH         0.016195\n",
       "AATSC3c        0.015393\n",
       "SdssC          0.015246\n",
       "AXp-3d         0.014767\n",
       "EState_VSA2    0.014738\n",
       "JGI3           0.014481\n",
       "ATS8v          0.014290\n",
       "MATS5i         0.013840\n",
       "ATSC7m         0.013457\n",
       "VSA_EState7    0.013454\n",
       "AATSC5d        0.013390\n",
       "GATS3c         0.013261\n",
       "ATSC8d         0.013127\n",
       "GATS3se        0.012693\n",
       "GATS1d         0.011737\n",
       "GATS1s         0.011484\n",
       "dtype: float64"
      ]
     },
     "execution_count": 34,
     "metadata": {},
     "output_type": "execute_result"
    }
   ],
   "source": [
    "rfr.fit(Xn_, y)\n",
    "pd.Series(rfr.feature_importances_, Xn_.columns).sort_values(ascending=False).head(25)"
   ]
  },
  {
   "cell_type": "code",
   "execution_count": null,
   "metadata": {},
   "outputs": [
    {
     "data": {
      "text/plain": [
       "Text(0, 0.5, 'Predicted Detection\\nThreshold Ratio')"
      ]
     },
     "execution_count": 55,
     "metadata": {},
     "output_type": "execute_result"
    },
    {
     "data": {
      "image/png": "[encoded data removed]",
      "text/plain": [
       "<Figure size 360x360 with 1 Axes>"
      ]
     },
     "metadata": {},
     "output_type": "display_data"
    }
   ],
   "source": [
    "sns.set_style('whitegrid')\n",
    "svr = SVR(C=10, kernel='rbf')\n",
    "svr.fit(Xn, y)\n",
    "y_predict = cross_val_predict(svr, Xn, y, cv=LeaveOneOut(), n_jobs=-1)\n",
    "y_predict = np.clip(y_predict, 0, np.inf)\n",
    "plt.figure(figsize=(5, 5))\n",
    "plt.scatter(y, y_predict, alpha=0.3)\n",
    "maxx = y.max()*1.01\n",
    "plt.plot([0, maxx], [0, maxx], '--')\n",
    "plt.xlim(0.9, maxx)\n",
    "plt.ylim(0.9, maxx)\n",
    "plt.title('R = %.2g' % np.corrcoef(y, y_predict)[0, 1])\n",
    "ticks = range(4)\n",
    "plt.xticks(ticks, ['%d' % 10**x for x in ticks])\n",
    "plt.yticks(ticks, ['%d' % 10**x for x in ticks])\n",
    "plt.xlabel('Actual Detection Threshold Ratio')\n",
    "plt.ylabel('Predicted Detection\\nThreshold Ratio')"
   ]
  },
  {
   "cell_type": "code",
   "execution_count": null,
   "metadata": {},
   "outputs": [
    {
     "data": {
      "text/plain": [
       "<matplotlib.axes._subplots.AxesSubplot at 0x7f014cf529d0>"
      ]
     },
     "execution_count": 36,
     "metadata": {},
     "output_type": "execute_result"
    },
    {
     "data": {
      "image/png": "[encoded data removed]",
      "text/plain": [
       "<Figure size 432x288 with 2 Axes>"
      ]
     },
     "metadata": {},
     "output_type": "display_data"
    }
   ],
   "source": [
    "sns.heatmap(svr.support_vectors_, cmap='RdBu_r')"
   ]
  },
  {
   "cell_type": "code",
   "execution_count": null,
   "metadata": {},
   "outputs": [
    {
     "name": "stdout",
     "output_type": "stream",
     "text": [
      "[-----------------------100%---------------------] 311 out of 311 complete (Finished embedding all molecules)\n",
      "Computing Mordred features...\n"
     ]
    },
    {
     "name": "stderr",
     "output_type": "stream",
     "text": [
      "100%|██████████| 249/249 [00:09<00:00, 27.42it/s]\n"
     ]
    },
    {
     "name": "stdout",
     "output_type": "stream",
     "text": [
      "There are 249 molecules and 1826 features\n"
     ]
    }
   ],
   "source": [
    "abraham = pyrfume.load_data('abraham_2011/abraham-2011-with-CIDs.csv')\n",
    "abraham = abraham.dropna(subset=['SMILES'])\n",
    "from pyrfume.features import smiles_to_mordred\n",
    "abraham_mordred = smiles_to_mordred(abraham['SMILES'].values)"
   ]
  },
  {
   "cell_type": "code",
   "execution_count": null,
   "metadata": {},
   "outputs": [
    {
     "ename": "KeyError",
     "evalue": "\"['det'] not in index\"",
     "output_type": "error",
     "traceback": [
      "\u001b[0;31m---------------------------------------------------------------------------\u001b[0m",
      "\u001b[0;31mKeyError\u001b[0m                                  Traceback (most recent call last)",
      "\u001b[0;32m<ipython-input-38-8ad311015e43>\u001b[0m in \u001b[0;36m<module>\u001b[0;34m\u001b[0m\n\u001b[1;32m     23\u001b[0m \u001b[0mX\u001b[0m \u001b[0;34m=\u001b[0m \u001b[0mX\u001b[0m\u001b[0;34m.\u001b[0m\u001b[0mastype\u001b[0m\u001b[0;34m(\u001b[0m\u001b[0;34m'float'\u001b[0m\u001b[0;34m)\u001b[0m\u001b[0;34m.\u001b[0m\u001b[0mdrop\u001b[0m\u001b[0;34m(\u001b[0m\u001b[0;34m'Log (1/ODT)'\u001b[0m\u001b[0;34m,\u001b[0m \u001b[0maxis\u001b[0m\u001b[0;34m=\u001b[0m\u001b[0;36m1\u001b[0m\u001b[0;34m)\u001b[0m\u001b[0;34m\u001b[0m\u001b[0;34m\u001b[0m\u001b[0m\n\u001b[1;32m     24\u001b[0m \u001b[0;31m#finite_all = X.dropna(axis=1).columns.intersection(finite_mordred)\u001b[0m\u001b[0;34m\u001b[0m\u001b[0;34m\u001b[0m\u001b[0;34m\u001b[0m\u001b[0m\n\u001b[0;32m---> 25\u001b[0;31m \u001b[0mX\u001b[0m \u001b[0;34m=\u001b[0m \u001b[0mX\u001b[0m\u001b[0;34m[\u001b[0m\u001b[0mfinite_mordred\u001b[0m\u001b[0;34m]\u001b[0m\u001b[0;34m.\u001b[0m\u001b[0mfillna\u001b[0m\u001b[0;34m(\u001b[0m\u001b[0;36m0\u001b[0m\u001b[0;34m)\u001b[0m\u001b[0;34m\u001b[0m\u001b[0;34m\u001b[0m\u001b[0m\n\u001b[0m\u001b[1;32m     26\u001b[0m \u001b[0mX\u001b[0m \u001b[0;34m=\u001b[0m \u001b[0mX\u001b[0m\u001b[0;34m.\u001b[0m\u001b[0mdropna\u001b[0m\u001b[0;34m(\u001b[0m\u001b[0maxis\u001b[0m\u001b[0;34m=\u001b[0m\u001b[0;36m1\u001b[0m\u001b[0;34m)\u001b[0m\u001b[0;34m\u001b[0m\u001b[0;34m\u001b[0m\u001b[0m\n\u001b[1;32m     27\u001b[0m \u001b[0mXn\u001b[0m \u001b[0;34m=\u001b[0m \u001b[0mX\u001b[0m\u001b[0;34m.\u001b[0m\u001b[0mcopy\u001b[0m\u001b[0;34m(\u001b[0m\u001b[0;34m)\u001b[0m\u001b[0;34m\u001b[0m\u001b[0;34m\u001b[0m\u001b[0m\n",
      "\u001b[0;32m~/.local/lib/python3.7/site-packages/pandas/core/frame.py\u001b[0m in \u001b[0;36m__getitem__\u001b[0;34m(self, key)\u001b[0m\n\u001b[1;32m   2804\u001b[0m             \u001b[0;32mif\u001b[0m \u001b[0mis_iterator\u001b[0m\u001b[0;34m(\u001b[0m\u001b[0mkey\u001b[0m\u001b[0;34m)\u001b[0m\u001b[0;34m:\u001b[0m\u001b[0;34m\u001b[0m\u001b[0;34m\u001b[0m\u001b[0m\n\u001b[1;32m   2805\u001b[0m                 \u001b[0mkey\u001b[0m \u001b[0;34m=\u001b[0m \u001b[0mlist\u001b[0m\u001b[0;34m(\u001b[0m\u001b[0mkey\u001b[0m\u001b[0;34m)\u001b[0m\u001b[0;34m\u001b[0m\u001b[0;34m\u001b[0m\u001b[0m\n\u001b[0;32m-> 2806\u001b[0;31m             \u001b[0mindexer\u001b[0m \u001b[0;34m=\u001b[0m \u001b[0mself\u001b[0m\u001b[0;34m.\u001b[0m\u001b[0mloc\u001b[0m\u001b[0;34m.\u001b[0m\u001b[0m_get_listlike_indexer\u001b[0m\u001b[0;34m(\u001b[0m\u001b[0mkey\u001b[0m\u001b[0;34m,\u001b[0m \u001b[0maxis\u001b[0m\u001b[0;34m=\u001b[0m\u001b[0;36m1\u001b[0m\u001b[0;34m,\u001b[0m \u001b[0mraise_missing\u001b[0m\u001b[0;34m=\u001b[0m\u001b[0;32mTrue\u001b[0m\u001b[0;34m)\u001b[0m\u001b[0;34m[\u001b[0m\u001b[0;36m1\u001b[0m\u001b[0;34m]\u001b[0m\u001b[0;34m\u001b[0m\u001b[0;34m\u001b[0m\u001b[0m\n\u001b[0m\u001b[1;32m   2807\u001b[0m \u001b[0;34m\u001b[0m\u001b[0m\n\u001b[1;32m   2808\u001b[0m         \u001b[0;31m# take() does not accept boolean indexers\u001b[0m\u001b[0;34m\u001b[0m\u001b[0;34m\u001b[0m\u001b[0;34m\u001b[0m\u001b[0m\n",
      "\u001b[0;32m~/.local/lib/python3.7/site-packages/pandas/core/indexing.py\u001b[0m in \u001b[0;36m_get_listlike_indexer\u001b[0;34m(self, key, axis, raise_missing)\u001b[0m\n\u001b[1;32m   1551\u001b[0m \u001b[0;34m\u001b[0m\u001b[0m\n\u001b[1;32m   1552\u001b[0m         self._validate_read_indexer(\n\u001b[0;32m-> 1553\u001b[0;31m             \u001b[0mkeyarr\u001b[0m\u001b[0;34m,\u001b[0m \u001b[0mindexer\u001b[0m\u001b[0;34m,\u001b[0m \u001b[0mo\u001b[0m\u001b[0;34m.\u001b[0m\u001b[0m_get_axis_number\u001b[0m\u001b[0;34m(\u001b[0m\u001b[0maxis\u001b[0m\u001b[0;34m)\u001b[0m\u001b[0;34m,\u001b[0m \u001b[0mraise_missing\u001b[0m\u001b[0;34m=\u001b[0m\u001b[0mraise_missing\u001b[0m\u001b[0;34m\u001b[0m\u001b[0;34m\u001b[0m\u001b[0m\n\u001b[0m\u001b[1;32m   1554\u001b[0m         )\n\u001b[1;32m   1555\u001b[0m         \u001b[0;32mreturn\u001b[0m \u001b[0mkeyarr\u001b[0m\u001b[0;34m,\u001b[0m \u001b[0mindexer\u001b[0m\u001b[0;34m\u001b[0m\u001b[0;34m\u001b[0m\u001b[0m\n",
      "\u001b[0;32m~/.local/lib/python3.7/site-packages/pandas/core/indexing.py\u001b[0m in \u001b[0;36m_validate_read_indexer\u001b[0;34m(self, key, indexer, axis, raise_missing)\u001b[0m\n\u001b[1;32m   1644\u001b[0m             \u001b[0;32mif\u001b[0m \u001b[0;32mnot\u001b[0m \u001b[0;34m(\u001b[0m\u001b[0mself\u001b[0m\u001b[0;34m.\u001b[0m\u001b[0mname\u001b[0m \u001b[0;34m==\u001b[0m \u001b[0;34m\"loc\"\u001b[0m \u001b[0;32mand\u001b[0m \u001b[0;32mnot\u001b[0m \u001b[0mraise_missing\u001b[0m\u001b[0;34m)\u001b[0m\u001b[0;34m:\u001b[0m\u001b[0;34m\u001b[0m\u001b[0;34m\u001b[0m\u001b[0m\n\u001b[1;32m   1645\u001b[0m                 \u001b[0mnot_found\u001b[0m \u001b[0;34m=\u001b[0m \u001b[0mlist\u001b[0m\u001b[0;34m(\u001b[0m\u001b[0mset\u001b[0m\u001b[0;34m(\u001b[0m\u001b[0mkey\u001b[0m\u001b[0;34m)\u001b[0m \u001b[0;34m-\u001b[0m \u001b[0mset\u001b[0m\u001b[0;34m(\u001b[0m\u001b[0max\u001b[0m\u001b[0;34m)\u001b[0m\u001b[0;34m)\u001b[0m\u001b[0;34m\u001b[0m\u001b[0;34m\u001b[0m\u001b[0m\n\u001b[0;32m-> 1646\u001b[0;31m                 \u001b[0;32mraise\u001b[0m \u001b[0mKeyError\u001b[0m\u001b[0;34m(\u001b[0m\u001b[0;34mf\"{not_found} not in index\"\u001b[0m\u001b[0;34m)\u001b[0m\u001b[0;34m\u001b[0m\u001b[0;34m\u001b[0m\u001b[0m\n\u001b[0m\u001b[1;32m   1647\u001b[0m \u001b[0;34m\u001b[0m\u001b[0m\n\u001b[1;32m   1648\u001b[0m             \u001b[0;31m# we skip the warning on Categorical/Interval\u001b[0m\u001b[0;34m\u001b[0m\u001b[0;34m\u001b[0m\u001b[0;34m\u001b[0m\u001b[0m\n",
      "\u001b[0;31mKeyError\u001b[0m: \"['det'] not in index\""
     ]
    }
   ],
   "source": [
    "#X = abraham_mordred.join(abraham.set_index('SMILES').drop(['Substance', 'Group'], axis=1), how='inner', rsuffix='abr_')\n",
    "abe_ok = ['MW',\n",
    " 'Log (1/ODT)',\n",
    " 'E',\n",
    " 'S',\n",
    " 'A',\n",
    " 'B',\n",
    " 'L',\n",
    " 'V',\n",
    " 'M',\n",
    " 'AL',\n",
    " 'AC',\n",
    " 'ES',\n",
    " 'C1',\n",
    " 'C1AC',\n",
    " 'C1AL',\n",
    " 'HS',\n",
    " 'C2',\n",
    " 'C2Al',\n",
    " 'C2AC']\n",
    "X = abraham_mordred.join(abraham.set_index('SMILES')[['Log (1/ODT)']], how='inner', rsuffix='abr_')\n",
    "y = X['Log (1/ODT)']\n",
    "X = X.astype('float').drop('Log (1/ODT)', axis=1)\n",
    "#finite_all = X.dropna(axis=1).columns.intersection(finite_mordred)\n",
    "X = X[finite_mordred].fillna(0)\n",
    "X = X.dropna(axis=1)\n",
    "Xn = X.copy()\n",
    "Xn[:] = StandardScaler().fit_transform(X)"
   ]
  },
  {
   "cell_type": "code",
   "execution_count": null,
   "metadata": {},
   "outputs": [],
   "source": [
    "Cs = np.logspace(-3, 3, 13)\n",
    "rs_in = pd.Series(index=Cs, dtype=float)\n",
    "rs_out = pd.Series(index=Cs, dtype=float)\n",
    "rhos_out = pd.Series(index=Cs, dtype=float)\n",
    "for C in tqdm(Cs):\n",
    "    svr = SVR(C=C, kernel='rbf')\n",
    "    clf = svr\n",
    "    #y_predict = cross_val_predict(rfr, Xn, y, cv=LeaveOneOut(), n_jobs=-1)\n",
    "    clf.fit(Xn, y)\n",
    "    y_predict_in = clf.predict(Xn)\n",
    "    y_predict_out = cross_val_predict(clf, Xn, y, cv=LeaveOneOut(), n_jobs=-1)\n",
    "    y_predict_in = np.clip(y_predict_in, 0, np.inf)\n",
    "    y_predict_out = np.clip(y_predict_out, 0, np.inf)\n",
    "    rs_in[C] = pearsonr(y, y_predict_in)[0]\n",
    "    rs_out[C] = pearsonr(y, y_predict_out)[0]\n",
    "    rhos_out[C] = spearmanr(y, y_predict_out)[0]"
   ]
  },
  {
   "cell_type": "code",
   "execution_count": null,
   "metadata": {},
   "outputs": [],
   "source": [
    "rs_in.plot(label='In-sample prediction R')\n",
    "rs_out.plot(label='Out-of-sample prediction R')\n",
    "rhos_out.plot(label=r'Out-of-sample prediction $\\rho$')\n",
    "plt.xscale('log')\n",
    "plt.ylabel('Correlation\\n(predicted vs observed)')\n",
    "plt.xlabel('C (SVR hyperparameter)')\n",
    "plt.legend(fontsize=10)"
   ]
  },
  {
   "cell_type": "code",
   "execution_count": null,
   "metadata": {},
   "outputs": [],
   "source": [
    "svr = SVR(C=1, kernel='rbf')\n",
    "svr.fit(Xn, y)\n",
    "X_ = mordred_data[finite_mordred]; y_ = mordred_data['log_abs']\n",
    "X_ = X_.join(half_coleman_data.set_index('SMILES String')['det'])\n",
    "X_ = X_[y_ < 10]\n",
    "y_ = y_[y_ < 10]\n",
    "Xn_ = pd.DataFrame(StandardScaler().fit_transform(X_), index=X_.index, columns=X_.columns)\n",
    "X_['det'] = svr.predict(Xn_.drop('det', axis=1))\n",
    "#y_predict = cross_val_predict(svr, Xn, y, cv=LeaveOneOut(), n_jobs=-1)"
   ]
  },
  {
   "cell_type": "code",
   "execution_count": null,
   "metadata": {},
   "outputs": [],
   "source": [
    "Xn_ = pd.DataFrame(StandardScaler().fit_transform(X_), index=X_.index, columns=X_.columns)\n",
    "Cs = np.logspace(-3, 3, 13)\n",
    "rs_in = pd.Series(index=Cs, dtype=float)\n",
    "rs_out = pd.Series(index=Cs, dtype=float)\n",
    "rhos_out = pd.Series(index=Cs, dtype=float)\n",
    "for C in tqdm(Cs):\n",
    "    svr = SVR(C=C, kernel='rbf')\n",
    "    clf = svr\n",
    "    #y_predict = cross_val_predict(rfr, Xn, y, cv=LeaveOneOut(), n_jobs=-1)\n",
    "    clf.fit(Xn_, y_)\n",
    "    y_predict_in = clf.predict(Xn_)\n",
    "    y_predict_out = cross_val_predict(clf, Xn_, y_, cv=LeaveOneOut(), n_jobs=-1)\n",
    "    y_predict_in = np.clip(y_predict_in, 0, np.inf)\n",
    "    y_predict_out = np.clip(y_predict_out, 0, np.inf)\n",
    "    rs_in[C] = pearsonr(y_, y_predict_in)[0]\n",
    "    rs_out[C] = pearsonr(y_, y_predict_out)[0]\n",
    "    rhos_out[C] = spearmanr(y_, y_predict_out)[0]"
   ]
  },
  {
   "cell_type": "code",
   "execution_count": null,
   "metadata": {},
   "outputs": [],
   "source": [
    "rs_in.plot(label='In-sample prediction R')\n",
    "rs_out.plot(label='Out-of-sample prediction R')\n",
    "rhos_out.plot(label=r'Out-of-sample prediction $\\rho$')\n",
    "plt.xscale('log')\n",
    "plt.ylabel('Correlation\\n(predicted vs observed)')\n",
    "plt.xlabel('C (SVR hyperparameter)')\n",
    "plt.legend(fontsize=10)"
   ]
  },
  {
   "cell_type": "code",
   "execution_count": null,
   "metadata": {},
   "outputs": [],
   "source": []
  }
 ],
 "metadata": {
  "kernelspec": {
   "display_name": "Python 3",
   "language": "python",
   "name": "python3"
  },
  "language_info": {
   "codemirror_mode": {
    "name": "ipython",
    "version": 3
   },
   "file_extension": ".py",
   "mimetype": "text/x-python",
   "name": "python",
   "nbconvert_exporter": "python",
   "pygments_lexer": "ipython3",
   "version": "3.7.3"
  }
 },
 "nbformat": 4,
 "nbformat_minor": 4
}
